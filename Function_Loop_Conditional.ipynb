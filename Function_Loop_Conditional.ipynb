{
 "cells": [
  {
   "cell_type": "markdown",
   "metadata": {},
   "source": [
    "> # NOTE สอนครั้งที่ 3 "
   ]
  },
  {
   "cell_type": "markdown",
   "metadata": {},
   "source": [
    "# FUNCTION\n",
    "* print ชื่อ xxx นามสกุล YYY รหัส ZZZ\n",
    "* print เกรด วิชา Stat1 >> AAA"
   ]
  },
  {
   "cell_type": "code",
   "execution_count": 2,
   "metadata": {},
   "outputs": [],
   "source": [
    "a = 'ชื่อ กรรณิการ์ วิรัชวา รหัส 603020900'"
   ]
  },
  {
   "cell_type": "code",
   "execution_count": 3,
   "metadata": {},
   "outputs": [
    {
     "data": {
      "text/plain": [
       "'ชื่อ กรรณิการ์ วิรัชวา รหัส 603020900'"
      ]
     },
     "execution_count": 3,
     "metadata": {},
     "output_type": "execute_result"
    }
   ],
   "source": [
    "a"
   ]
  },
  {
   "cell_type": "code",
   "execution_count": 8,
   "metadata": {},
   "outputs": [
    {
     "name": "stdout",
     "output_type": "stream",
     "text": [
      "ชื่อ กรรณิการ์ นามสกุล วิรัชวา  รหัส 6030209040\n"
     ]
    }
   ],
   "source": [
    "name = 'กรรณิการ์'\n",
    "surname = 'วิรัชวา'\n",
    "ID = '6030209040'\n",
    "\n",
    "b= f'ชื่อ {name} นามสกุล {surname}  รหัส {ID}'\n",
    "print(b)"
   ]
  },
  {
   "cell_type": "markdown",
   "metadata": {},
   "source": [
    "## Function template\n",
    "~~~~~~~python\n",
    "def function_name(input):\n",
    "    do_something\n",
    "    return Output\n",
    "~~~~~~~"
   ]
  },
  {
   "cell_type": "code",
   "execution_count": 9,
   "metadata": {},
   "outputs": [],
   "source": [
    "def print_line1(name1,surname1,ID1):\n",
    "    st = f'ชื่อ {name1} นามสกุล {surname1}  รหัส {ID1}'\n",
    "    return st"
   ]
  },
  {
   "cell_type": "markdown",
   "metadata": {},
   "source": [
    "**function ได้เก็บไว้แล้ว เรียกใช้ได้เลย"
   ]
  },
  {
   "cell_type": "code",
   "execution_count": 11,
   "metadata": {},
   "outputs": [
    {
     "name": "stdout",
     "output_type": "stream",
     "text": [
      "ชื่อ กรรณิการ์ นามสกุล วิรัชวา  รหัส 603020904-0\n"
     ]
    }
   ],
   "source": [
    "print(print_line1('กรรณิการ์','วิรัชวา','603020904-0'))"
   ]
  },
  {
   "cell_type": "markdown",
   "metadata": {},
   "source": [
    "## Function without output"
   ]
  },
  {
   "cell_type": "code",
   "execution_count": 12,
   "metadata": {},
   "outputs": [],
   "source": [
    "def print_2lines(name1,surname1,ID1,grade):\n",
    "    st = f'ชื่อ {name1} นามสกุล {surname1}  รหัส {ID1}'\n",
    "    print(st)\n",
    "    st2 = f'เกรดวิชา Stat1 >>> {grade}'\n",
    "    print(st2)"
   ]
  },
  {
   "cell_type": "code",
   "execution_count": 14,
   "metadata": {},
   "outputs": [
    {
     "name": "stdout",
     "output_type": "stream",
     "text": [
      "ชื่อ กรรณิการ์ นามสกุล วิรัชวา  รหัส 603020904-0\n",
      "เกรดวิชา Stat1 >>> A\n",
      "ชื่อ ปิยาพร นามสกุล อุตรนคร  รหัส 603021873-0\n",
      "เกรดวิชา Stat1 >>> A\n",
      "ชื่อ พุธิตา นามสกุล เจือจัน  รหัส 603021879-8\n",
      "เกรดวิชา Stat1 >>> A\n",
      "ชื่อ วิภาวดี นามสกุล แก้วดวงดี  รหัส 603021112-8\n",
      "เกรดวิชา Stat1 >>> A\n"
     ]
    }
   ],
   "source": [
    "print_2lines('กรรณิการ์','วิรัชวา','603020904-0','A')\n",
    "print_2lines('ปิยาพร','อุตรนคร','603021873-0','A')\n",
    "print_2lines('พุธิตา','เจือจัน','603021879-8','A')\n",
    "print_2lines('วิภาวดี','แก้วดวงดี','603021112-8','A')"
   ]
  },
  {
   "cell_type": "markdown",
   "metadata": {},
   "source": [
    "> ดูตัวอย่าง Errors"
   ]
  },
  {
   "cell_type": "code",
   "execution_count": 15,
   "metadata": {},
   "outputs": [],
   "source": [
    "def print_2lines_er(name1,surname1,ID1,grade):\n",
    "    st = f'ชื่อ {name1} นามสกุล {surname1}  รหัส {ID1}'\n",
    "    return st\n",
    "    st2 = f'เกรดวิชา Stat1 >>> {grade}'\n",
    "    print(st2)"
   ]
  },
  {
   "cell_type": "code",
   "execution_count": 19,
   "metadata": {},
   "outputs": [
    {
     "data": {
      "text/plain": [
       "'ชื่อ กรรณิการ์ นามสกุล วิรัชวา  รหัส 603020904-0'"
      ]
     },
     "execution_count": 19,
     "metadata": {},
     "output_type": "execute_result"
    }
   ],
   "source": [
    "print_2lines_er('กรรณิการ์','วิรัชวา','603020904-0','A') "
   ]
  },
  {
   "cell_type": "markdown",
   "metadata": {},
   "source": [
    "* เพราะใช้ Return เกรดจึงไม่ออก ต้องใช้ Print"
   ]
  },
  {
   "cell_type": "markdown",
   "metadata": {},
   "source": [
    "## Function without input"
   ]
  },
  {
   "cell_type": "code",
   "execution_count": 20,
   "metadata": {},
   "outputs": [],
   "source": [
    "def two_x_three():\n",
    "    x =2*3\n",
    "    return x"
   ]
  },
  {
   "cell_type": "code",
   "execution_count": 22,
   "metadata": {},
   "outputs": [
    {
     "data": {
      "text/plain": [
       "6"
      ]
     },
     "execution_count": 22,
     "metadata": {},
     "output_type": "execute_result"
    }
   ],
   "source": [
    "two_x_three()"
   ]
  },
  {
   "cell_type": "markdown",
   "metadata": {},
   "source": [
    "## Function  with default argument"
   ]
  },
  {
   "cell_type": "code",
   "execution_count": 23,
   "metadata": {},
   "outputs": [],
   "source": [
    "def print_2lines_default(name1,surname1,ID1,grade = 'F'):\n",
    "    st = f'ชื่อ {name1} นามสกุล {surname1}  รหัส {ID1}'\n",
    "    print(st)\n",
    "    st2 = f'เกรดวิชา Stat1 >>> {grade}'\n",
    "    print(st2)"
   ]
  },
  {
   "cell_type": "code",
   "execution_count": 26,
   "metadata": {},
   "outputs": [
    {
     "name": "stdout",
     "output_type": "stream",
     "text": [
      "ชื่อ กรรณิการ์ นามสกุล วิรัชวา  รหัส 603020904-0\n",
      "เกรดวิชา Stat1 >>> F\n"
     ]
    }
   ],
   "source": [
    "print_2lines_default('กรรณิการ์','วิรัชวา','603020904-0') ##ถ้าไม่ใส่เกรด function จะใส่ Default ให้เลยคือ F"
   ]
  },
  {
   "cell_type": "code",
   "execution_count": 25,
   "metadata": {},
   "outputs": [
    {
     "name": "stdout",
     "output_type": "stream",
     "text": [
      "ชื่อ กรรณิการ์ นามสกุล วิรัชวา  รหัส 603020904-0\n",
      "เกรดวิชา Stat1 >>> A\n"
     ]
    }
   ],
   "source": [
    "print_2lines_default('กรรณิการ์','วิรัชวา','603020904-0','A')"
   ]
  },
  {
   "cell_type": "code",
   "execution_count": 28,
   "metadata": {},
   "outputs": [
    {
     "name": "stdout",
     "output_type": "stream",
     "text": [
      "ชื่อ วิรัชวา นามสกุล กรรณิการ์  รหัส 603020904-0\n",
      "เกรดวิชา Stat1 >>> F\n"
     ]
    }
   ],
   "source": [
    "print_2lines_default(surname1 = 'กรรณิการ์',name1 = 'วิรัชวา',ID1 = '603020904-0') ##ถ้ารู้จักชื่อตัวแปลก็สามารถกำหนดค่าให้ได้เลย อาจจะสลับตำแหน่งได้"
   ]
  },
  {
   "cell_type": "markdown",
   "metadata": {},
   "source": [
    "## Loop (การวนซ้ำ)"
   ]
  },
  {
   "cell_type": "markdown",
   "metadata": {},
   "source": [
    "`````python\n",
    "for each_number in listA :\n",
    "    do something\n",
    "`````"
   ]
  },
  {
   "cell_type": "code",
   "execution_count": 29,
   "metadata": {},
   "outputs": [
    {
     "name": "stdout",
     "output_type": "stream",
     "text": [
      "1\n",
      "2\n",
      "3\n"
     ]
    }
   ],
   "source": [
    "for i in [1,2,3]:\n",
    "    print(i)"
   ]
  },
  {
   "cell_type": "code",
   "execution_count": 30,
   "metadata": {},
   "outputs": [
    {
     "name": "stdout",
     "output_type": "stream",
     "text": [
      "K-> / \n",
      "A-> / \n",
      "N-> / \n",
      "N-> / \n",
      "I-> / \n",
      "K-> / \n",
      "A-> / \n"
     ]
    }
   ],
   "source": [
    "for i in 'KANNIKA':\n",
    "    print(f'{i }-> / ')"
   ]
  },
  {
   "cell_type": "code",
   "execution_count": 31,
   "metadata": {},
   "outputs": [
    {
     "name": "stdout",
     "output_type": "stream",
     "text": [
      "K-> / \n",
      " \n",
      "A-> / \n",
      " \n",
      "N-> / \n",
      " \n",
      "N-> / \n",
      " \n",
      "I-> / \n",
      " \n",
      "K-> / \n",
      " \n",
      "A-> / \n",
      " \n"
     ]
    }
   ],
   "source": [
    "for i in 'KANNIKA':\n",
    "    print(f'{i }-> / ')\n",
    "    print(' ')"
   ]
  },
  {
   "cell_type": "markdown",
   "metadata": {},
   "source": [
    "* 1.สร้าง List ชื่อเพื่อนที่อยู่ในแถวยาวเดียวกัน\n",
    "* 1.5 สร้าง function print ประโยคว่า XXX(เรา) YYY(ความรู้สึก) ZZZ(เพื่อน) ทุกคน\n",
    "* 2.วนลูป เรียก function โดยเปลี่ยนชื่อเพื่อนไปเรื่อยๆ"
   ]
  },
  {
   "cell_type": "code",
   "execution_count": 5,
   "metadata": {},
   "outputs": [],
   "source": [
    "list_fr = ['ขวัญ','ดิว','เอิร์น']\n",
    "def print_friend (I,feeling,friend) :\n",
    "    print(f'{I} {feeling} {friend}')"
   ]
  },
  {
   "cell_type": "code",
   "execution_count": 6,
   "metadata": {},
   "outputs": [
    {
     "name": "stdout",
     "output_type": "stream",
     "text": [
      "KANNIKA LOVE PIYAPHON\n"
     ]
    }
   ],
   "source": [
    "print_friend('KANNIKA','LOVE','PIYAPHON') "
   ]
  },
  {
   "cell_type": "code",
   "execution_count": 7,
   "metadata": {},
   "outputs": [
    {
     "name": "stdout",
     "output_type": "stream",
     "text": [
      "KANNIKA LOVE ขวัญ\n",
      "KANNIKA LOVE ดิว\n",
      "KANNIKA LOVE เอิร์น\n"
     ]
    }
   ],
   "source": [
    "for f in list_fr :\n",
    "    print_friend('KANNIKA','LOVE',f)"
   ]
  },
  {
   "cell_type": "markdown",
   "metadata": {},
   "source": [
    "> Test Loop"
   ]
  },
  {
   "cell_type": "code",
   "execution_count": 15,
   "metadata": {},
   "outputs": [],
   "source": [
    "list_exo = ['คิมมินซอก','คิมจุนมยอน','ปาร์คชานยอล','บยอนแบคฮยอน','จางอี้ชิง','คิมจงแด','โดคยองซู','คิมจงอิน','โอเซฮุน']\n",
    "def print_exo (I,feeling,exo) :\n",
    "    print(f'{I} {feeling} {exo}')"
   ]
  },
  {
   "cell_type": "code",
   "execution_count": 16,
   "metadata": {},
   "outputs": [
    {
     "name": "stdout",
     "output_type": "stream",
     "text": [
      "KANNIKA LOVE คิมมินซอก\n",
      "KANNIKA LOVE คิมจุนมยอน\n",
      "KANNIKA LOVE ปาร์คชานยอล\n",
      "KANNIKA LOVE บยอนแบคฮยอน\n",
      "KANNIKA LOVE จางอี้ชิง\n",
      "KANNIKA LOVE คิมจงแด\n",
      "KANNIKA LOVE โดคยองซู\n",
      "KANNIKA LOVE คิมจงอิน\n",
      "KANNIKA LOVE โอเซฮุน\n"
     ]
    }
   ],
   "source": [
    "for e in list_exo :\n",
    "    print_exo('KANNIKA','LOVE',e)"
   ]
  },
  {
   "cell_type": "markdown",
   "metadata": {},
   "source": [
    "## Loop in function"
   ]
  },
  {
   "cell_type": "code",
   "execution_count": 9,
   "metadata": {},
   "outputs": [],
   "source": [
    "def  print_friend (I,feeling,friends) :\n",
    "    for friend in friends :\n",
    "        print(f'{I} {feeling} {friend}')     "
   ]
  },
  {
   "cell_type": "code",
   "execution_count": 10,
   "metadata": {},
   "outputs": [
    {
     "name": "stdout",
     "output_type": "stream",
     "text": [
      "KANNIKA LOVE ขวัญ\n",
      "KANNIKA LOVE ดิว\n",
      "KANNIKA LOVE เอิร์น\n"
     ]
    }
   ],
   "source": [
    " print_friend('KANNIKA','LOVE', list_fr)"
   ]
  },
  {
   "cell_type": "markdown",
   "metadata": {},
   "source": [
    "## Looping in dict"
   ]
  },
  {
   "cell_type": "code",
   "execution_count": 17,
   "metadata": {},
   "outputs": [
    {
     "data": {
      "text/plain": [
       "{'กรรณิการ์': 'A', 'ปิยาพร': 'C', 'พุธิตา': 'A+', 'ทรงกลด': 'F'}"
      ]
     },
     "execution_count": 17,
     "metadata": {},
     "output_type": "execute_result"
    }
   ],
   "source": [
    "name_grade = {'กรรณิการ์' : 'A','ปิยาพร':'C' ,'พุธิตา':'A+','ทรงกลด':'F'}\n",
    "name_grade"
   ]
  },
  {
   "cell_type": "code",
   "execution_count": 18,
   "metadata": {},
   "outputs": [
    {
     "data": {
      "text/plain": [
       "'A'"
      ]
     },
     "execution_count": 18,
     "metadata": {},
     "output_type": "execute_result"
    }
   ],
   "source": [
    "name_grade['กรรณิการ์']"
   ]
  },
  {
   "cell_type": "markdown",
   "metadata": {},
   "source": [
    "> ใช้คำสั่ง .keys() สำหรับเรียกชื่อลิตส์ออกมา"
   ]
  },
  {
   "cell_type": "code",
   "execution_count": 19,
   "metadata": {},
   "outputs": [
    {
     "name": "stdout",
     "output_type": "stream",
     "text": [
      "กรรณิการ์\n",
      "ปิยาพร\n",
      "พุธิตา\n",
      "ทรงกลด\n"
     ]
    }
   ],
   "source": [
    "for i in name_grade.keys() :\n",
    "    print(i)"
   ]
  },
  {
   "cell_type": "code",
   "execution_count": 22,
   "metadata": {},
   "outputs": [
    {
     "name": "stdout",
     "output_type": "stream",
     "text": [
      "กรรณิการ์ ได้เกรด A\n",
      "ปิยาพร ได้เกรด C\n",
      "พุธิตา ได้เกรด A+\n",
      "ทรงกลด ได้เกรด F\n"
     ]
    }
   ],
   "source": [
    "for i in name_grade.keys() :\n",
    "    print(f'{i} ได้เกรด {name_grade[i]}')"
   ]
  },
  {
   "cell_type": "markdown",
   "metadata": {},
   "source": [
    "## Loop in Loop"
   ]
  },
  {
   "cell_type": "code",
   "execution_count": 23,
   "metadata": {},
   "outputs": [
    {
     "name": "stdout",
     "output_type": "stream",
     "text": [
      "คิมมินซอก LOVE คิมมินซอก\n",
      "คิมมินซอก LOVE คิมจุนมยอน\n",
      "คิมมินซอก LOVE ปาร์คชานยอล\n",
      "คิมมินซอก LOVE บยอนแบคฮยอน\n",
      "คิมมินซอก LOVE จางอี้ชิง\n",
      "คิมมินซอก LOVE คิมจงแด\n",
      "คิมมินซอก LOVE โดคยองซู\n",
      "คิมมินซอก LOVE คิมจงอิน\n",
      "คิมมินซอก LOVE โอเซฮุน\n",
      "คิมจุนมยอน LOVE คิมมินซอก\n",
      "คิมจุนมยอน LOVE คิมจุนมยอน\n",
      "คิมจุนมยอน LOVE ปาร์คชานยอล\n",
      "คิมจุนมยอน LOVE บยอนแบคฮยอน\n",
      "คิมจุนมยอน LOVE จางอี้ชิง\n",
      "คิมจุนมยอน LOVE คิมจงแด\n",
      "คิมจุนมยอน LOVE โดคยองซู\n",
      "คิมจุนมยอน LOVE คิมจงอิน\n",
      "คิมจุนมยอน LOVE โอเซฮุน\n",
      "ปาร์คชานยอล LOVE คิมมินซอก\n",
      "ปาร์คชานยอล LOVE คิมจุนมยอน\n",
      "ปาร์คชานยอล LOVE ปาร์คชานยอล\n",
      "ปาร์คชานยอล LOVE บยอนแบคฮยอน\n",
      "ปาร์คชานยอล LOVE จางอี้ชิง\n",
      "ปาร์คชานยอล LOVE คิมจงแด\n",
      "ปาร์คชานยอล LOVE โดคยองซู\n",
      "ปาร์คชานยอล LOVE คิมจงอิน\n",
      "ปาร์คชานยอล LOVE โอเซฮุน\n",
      "บยอนแบคฮยอน LOVE คิมมินซอก\n",
      "บยอนแบคฮยอน LOVE คิมจุนมยอน\n",
      "บยอนแบคฮยอน LOVE ปาร์คชานยอล\n",
      "บยอนแบคฮยอน LOVE บยอนแบคฮยอน\n",
      "บยอนแบคฮยอน LOVE จางอี้ชิง\n",
      "บยอนแบคฮยอน LOVE คิมจงแด\n",
      "บยอนแบคฮยอน LOVE โดคยองซู\n",
      "บยอนแบคฮยอน LOVE คิมจงอิน\n",
      "บยอนแบคฮยอน LOVE โอเซฮุน\n",
      "จางอี้ชิง LOVE คิมมินซอก\n",
      "จางอี้ชิง LOVE คิมจุนมยอน\n",
      "จางอี้ชิง LOVE ปาร์คชานยอล\n",
      "จางอี้ชิง LOVE บยอนแบคฮยอน\n",
      "จางอี้ชิง LOVE จางอี้ชิง\n",
      "จางอี้ชิง LOVE คิมจงแด\n",
      "จางอี้ชิง LOVE โดคยองซู\n",
      "จางอี้ชิง LOVE คิมจงอิน\n",
      "จางอี้ชิง LOVE โอเซฮุน\n",
      "คิมจงแด LOVE คิมมินซอก\n",
      "คิมจงแด LOVE คิมจุนมยอน\n",
      "คิมจงแด LOVE ปาร์คชานยอล\n",
      "คิมจงแด LOVE บยอนแบคฮยอน\n",
      "คิมจงแด LOVE จางอี้ชิง\n",
      "คิมจงแด LOVE คิมจงแด\n",
      "คิมจงแด LOVE โดคยองซู\n",
      "คิมจงแด LOVE คิมจงอิน\n",
      "คิมจงแด LOVE โอเซฮุน\n",
      "โดคยองซู LOVE คิมมินซอก\n",
      "โดคยองซู LOVE คิมจุนมยอน\n",
      "โดคยองซู LOVE ปาร์คชานยอล\n",
      "โดคยองซู LOVE บยอนแบคฮยอน\n",
      "โดคยองซู LOVE จางอี้ชิง\n",
      "โดคยองซู LOVE คิมจงแด\n",
      "โดคยองซู LOVE โดคยองซู\n",
      "โดคยองซู LOVE คิมจงอิน\n",
      "โดคยองซู LOVE โอเซฮุน\n",
      "คิมจงอิน LOVE คิมมินซอก\n",
      "คิมจงอิน LOVE คิมจุนมยอน\n",
      "คิมจงอิน LOVE ปาร์คชานยอล\n",
      "คิมจงอิน LOVE บยอนแบคฮยอน\n",
      "คิมจงอิน LOVE จางอี้ชิง\n",
      "คิมจงอิน LOVE คิมจงแด\n",
      "คิมจงอิน LOVE โดคยองซู\n",
      "คิมจงอิน LOVE คิมจงอิน\n",
      "คิมจงอิน LOVE โอเซฮุน\n",
      "โอเซฮุน LOVE คิมมินซอก\n",
      "โอเซฮุน LOVE คิมจุนมยอน\n",
      "โอเซฮุน LOVE ปาร์คชานยอล\n",
      "โอเซฮุน LOVE บยอนแบคฮยอน\n",
      "โอเซฮุน LOVE จางอี้ชิง\n",
      "โอเซฮุน LOVE คิมจงแด\n",
      "โอเซฮุน LOVE โดคยองซู\n",
      "โอเซฮุน LOVE คิมจงอิน\n",
      "โอเซฮุน LOVE โอเซฮุน\n"
     ]
    }
   ],
   "source": [
    "for name1 in list_exo:\n",
    "    for name2 in list_exo:\n",
    "         print_friend(name1,'LOVE',name2)"
   ]
  },
  {
   "cell_type": "markdown",
   "metadata": {},
   "source": [
    "## Conditional"
   ]
  },
  {
   "cell_type": "markdown",
   "metadata": {},
   "source": [
    "> เครื่องหมายที่ใช้กับ Condition"
   ]
  },
  {
   "cell_type": "markdown",
   "metadata": {},
   "source": [
    "* == เช็คว่าตัวหน้ากับตัวหลังเท่ากันรึเปล่า เท่ากัน True ไม่เท่ากัน False\n",
    "* != ไม่เท่ากับ เท่ากันตอบ False ไม่เท่าตอบ True\n",
    "* เครื่องหมาย >= ,<=,<,> ถ้าใช่ตอบ True ถ้าไม่ใช่ตอบ Flase"
   ]
  },
  {
   "cell_type": "markdown",
   "metadata": {},
   "source": [
    "```python\n",
    "if conditional :\n",
    "    do something\n",
    "elif conditional2 :\n",
    "    do another thing\n",
    "else :\n",
    "    do...\n",
    "    ```"
   ]
  },
  {
   "cell_type": "markdown",
   "metadata": {},
   "source": [
    "> วนลูปไม่ให้คนชื่อเดียวกันรักตัวเอง"
   ]
  },
  {
   "cell_type": "code",
   "execution_count": 27,
   "metadata": {},
   "outputs": [
    {
     "name": "stdout",
     "output_type": "stream",
     "text": [
      "คิมมินซอก LOVE คิมจุนมยอน\n",
      "คิมมินซอก LOVE ปาร์คชานยอล\n",
      "คิมมินซอก LOVE บยอนแบคฮยอน\n",
      "คิมมินซอก LOVE จางอี้ชิง\n",
      "คิมมินซอก LOVE คิมจงแด\n",
      "คิมมินซอก LOVE โดคยองซู\n",
      "คิมมินซอก LOVE คิมจงอิน\n",
      "คิมมินซอก LOVE โอเซฮุน\n",
      "คิมจุนมยอน LOVE คิมมินซอก\n",
      "คิมจุนมยอน LOVE ปาร์คชานยอล\n",
      "คิมจุนมยอน LOVE บยอนแบคฮยอน\n",
      "คิมจุนมยอน LOVE จางอี้ชิง\n",
      "คิมจุนมยอน LOVE คิมจงแด\n",
      "คิมจุนมยอน LOVE โดคยองซู\n",
      "คิมจุนมยอน LOVE คิมจงอิน\n",
      "คิมจุนมยอน LOVE โอเซฮุน\n",
      "ปาร์คชานยอล LOVE คิมมินซอก\n",
      "ปาร์คชานยอล LOVE คิมจุนมยอน\n",
      "ปาร์คชานยอล LOVE บยอนแบคฮยอน\n",
      "ปาร์คชานยอล LOVE จางอี้ชิง\n",
      "ปาร์คชานยอล LOVE คิมจงแด\n",
      "ปาร์คชานยอล LOVE โดคยองซู\n",
      "ปาร์คชานยอล LOVE คิมจงอิน\n",
      "ปาร์คชานยอล LOVE โอเซฮุน\n",
      "บยอนแบคฮยอน LOVE คิมมินซอก\n",
      "บยอนแบคฮยอน LOVE คิมจุนมยอน\n",
      "บยอนแบคฮยอน LOVE ปาร์คชานยอล\n",
      "บยอนแบคฮยอน LOVE จางอี้ชิง\n",
      "บยอนแบคฮยอน LOVE คิมจงแด\n",
      "บยอนแบคฮยอน LOVE โดคยองซู\n",
      "บยอนแบคฮยอน LOVE คิมจงอิน\n",
      "บยอนแบคฮยอน LOVE โอเซฮุน\n",
      "จางอี้ชิง LOVE คิมมินซอก\n",
      "จางอี้ชิง LOVE คิมจุนมยอน\n",
      "จางอี้ชิง LOVE ปาร์คชานยอล\n",
      "จางอี้ชิง LOVE บยอนแบคฮยอน\n",
      "จางอี้ชิง LOVE คิมจงแด\n",
      "จางอี้ชิง LOVE โดคยองซู\n",
      "จางอี้ชิง LOVE คิมจงอิน\n",
      "จางอี้ชิง LOVE โอเซฮุน\n",
      "คิมจงแด LOVE คิมมินซอก\n",
      "คิมจงแด LOVE คิมจุนมยอน\n",
      "คิมจงแด LOVE ปาร์คชานยอล\n",
      "คิมจงแด LOVE บยอนแบคฮยอน\n",
      "คิมจงแด LOVE จางอี้ชิง\n",
      "คิมจงแด LOVE โดคยองซู\n",
      "คิมจงแด LOVE คิมจงอิน\n",
      "คิมจงแด LOVE โอเซฮุน\n",
      "โดคยองซู LOVE คิมมินซอก\n",
      "โดคยองซู LOVE คิมจุนมยอน\n",
      "โดคยองซู LOVE ปาร์คชานยอล\n",
      "โดคยองซู LOVE บยอนแบคฮยอน\n",
      "โดคยองซู LOVE จางอี้ชิง\n",
      "โดคยองซู LOVE คิมจงแด\n",
      "โดคยองซู LOVE คิมจงอิน\n",
      "โดคยองซู LOVE โอเซฮุน\n",
      "คิมจงอิน LOVE คิมมินซอก\n",
      "คิมจงอิน LOVE คิมจุนมยอน\n",
      "คิมจงอิน LOVE ปาร์คชานยอล\n",
      "คิมจงอิน LOVE บยอนแบคฮยอน\n",
      "คิมจงอิน LOVE จางอี้ชิง\n",
      "คิมจงอิน LOVE คิมจงแด\n",
      "คิมจงอิน LOVE โดคยองซู\n",
      "คิมจงอิน LOVE โอเซฮุน\n",
      "โอเซฮุน LOVE คิมมินซอก\n",
      "โอเซฮุน LOVE คิมจุนมยอน\n",
      "โอเซฮุน LOVE ปาร์คชานยอล\n",
      "โอเซฮุน LOVE บยอนแบคฮยอน\n",
      "โอเซฮุน LOVE จางอี้ชิง\n",
      "โอเซฮุน LOVE คิมจงแด\n",
      "โอเซฮุน LOVE โดคยองซู\n",
      "โอเซฮุน LOVE คิมจงอิน\n"
     ]
    }
   ],
   "source": [
    "for name1 in list_exo:\n",
    "    for name2 in list_exo:\n",
    "        if name1 != name2:\n",
    "             print_friend(name1,'LOVE',name2)"
   ]
  },
  {
   "cell_type": "code",
   "execution_count": 28,
   "metadata": {},
   "outputs": [
    {
     "name": "stdout",
     "output_type": "stream",
     "text": [
      "YES\n"
     ]
    }
   ],
   "source": [
    "if True :\n",
    "    print('YES')"
   ]
  },
  {
   "cell_type": "code",
   "execution_count": 29,
   "metadata": {},
   "outputs": [],
   "source": [
    "if False :\n",
    "    print('No')"
   ]
  },
  {
   "cell_type": "markdown",
   "metadata": {},
   "source": [
    "> ข้างหลัง if เป็นเท็จ (False) จะไม่ปริ้นออกมา"
   ]
  },
  {
   "cell_type": "code",
   "execution_count": 31,
   "metadata": {},
   "outputs": [
    {
     "name": "stdout",
     "output_type": "stream",
     "text": [
      "NO\n"
     ]
    }
   ],
   "source": [
    "if False :\n",
    "    print('YES')\n",
    "else :\n",
    "    print('NO')"
   ]
  },
  {
   "cell_type": "code",
   "execution_count": 34,
   "metadata": {},
   "outputs": [
    {
     "data": {
      "text/plain": [
       "True"
      ]
     },
     "execution_count": 34,
     "metadata": {},
     "output_type": "execute_result"
    }
   ],
   "source": [
    "1 == 1 "
   ]
  },
  {
   "cell_type": "code",
   "execution_count": 35,
   "metadata": {},
   "outputs": [
    {
     "name": "stdout",
     "output_type": "stream",
     "text": [
      "1=1\n"
     ]
    }
   ],
   "source": [
    "if 1 == 1 :\n",
    "    print('1=1')"
   ]
  },
  {
   "cell_type": "markdown",
   "metadata": {},
   "source": [
    "> # HW\n",
    "\n",
    "เขียน Function ตัดเกรด โดยที่ input เป็น คะแนน(0-100) output เป็นเกรด(F-A)\n",
    "\n",
    "input = [1,50,65,90,101,-5,49]"
   ]
  },
  {
   "cell_type": "markdown",
   "metadata": {},
   "source": [
    "> สร้าง FUNCTION วนลูป โดยใช้ if , elif"
   ]
  },
  {
   "cell_type": "code",
   "execution_count": 1,
   "metadata": {},
   "outputs": [],
   "source": [
    "def print_Grade(input_Score):\n",
    "    if 0 <= input_Score <= 100:\n",
    "        if input_Score < 50:\n",
    "            print(f'{input_Score} คะแนน เกรดของคุณ คือ  F')\n",
    "        elif 50 >= input_Score < 55:\n",
    "            print(f'{input_Score} คะแนน เกรดของคุณ คือ D')\n",
    "        elif 55 >= input_Score < 60:\n",
    "            print(f'{input_Score} คะแนน เกรดของคุณ คือ D+')\n",
    "        elif 60 >= input_Score < 65:\n",
    "            print(f'{input_Score} คะแนน เกรดของคุณ คือ C')\n",
    "        elif 65 >= input_Score < 70:\n",
    "            print(f'{input_Score} คะแนน เกรดของคุณ คือ C+')\n",
    "        elif 70 >= input_Score < 75:\n",
    "            print(f'{input_Score} คะแนน เกรดของคุณ คือ B')\n",
    "        elif 75 >= input_Score < 80:\n",
    "            print(f'{input_Score} คะแนน เกรดของคุณ คือ B+')\n",
    "        else:\n",
    "            print(f'{input_Score} คะแนน เกรดของคุณ คือ  A')\n",
    "    else:\n",
    "        print(f'คะแนนของคุณไม่ถูกต้อง ไม่มีเกรด')"
   ]
  },
  {
   "cell_type": "markdown",
   "metadata": {},
   "source": [
    "> คำตอบ"
   ]
  },
  {
   "cell_type": "code",
   "execution_count": 3,
   "metadata": {},
   "outputs": [],
   "source": [
    "input = [1,50,65,90,101,-5,49]"
   ]
  },
  {
   "cell_type": "code",
   "execution_count": 4,
   "metadata": {},
   "outputs": [
    {
     "name": "stdout",
     "output_type": "stream",
     "text": [
      "1 คะแนน เกรดของคุณ คือ  F\n",
      "50 คะแนน เกรดของคุณ คือ D\n",
      "65 คะแนน เกรดของคุณ คือ C+\n",
      "90 คะแนน เกรดของคุณ คือ  A\n",
      "คะแนนของคุณไม่ถูกต้อง ไม่มีเกรด\n",
      "คะแนนของคุณไม่ถูกต้อง ไม่มีเกรด\n",
      "49 คะแนน เกรดของคุณ คือ  F\n"
     ]
    }
   ],
   "source": [
    "for i in input :\n",
    "    print_Grade(i)"
   ]
  }
 ],
 "metadata": {
  "kernelspec": {
   "display_name": "Python 3",
   "language": "python",
   "name": "python3"
  },
  "language_info": {
   "codemirror_mode": {
    "name": "ipython",
    "version": 3
   },
   "file_extension": ".py",
   "mimetype": "text/x-python",
   "name": "python",
   "nbconvert_exporter": "python",
   "pygments_lexer": "ipython3",
   "version": "3.7.4"
  }
 },
 "nbformat": 4,
 "nbformat_minor": 2
}
