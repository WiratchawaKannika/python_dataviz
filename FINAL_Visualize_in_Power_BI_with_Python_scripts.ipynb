{
 "cells": [
  {
   "cell_type": "markdown",
   "metadata": {},
   "source": [
    "> # HomeWork 10\n",
    "\n",
    "> # FINAL "
   ]
  },
  {
   "cell_type": "markdown",
   "metadata": {},
   "source": [
    "> ### Data Visualize in Power BI with Python script "
   ]
  },
  {
   "cell_type": "markdown",
   "metadata": {},
   "source": [
    "#### 1. Import Data\n",
    "\n",
    "> ใช้ข้อมูลโรค Co-vid 19  ของปี 2020 >>>>>>>>  Excel file  : 2019_nCoV_data"
   ]
  },
  {
   "cell_type": "code",
   "execution_count": 1,
   "metadata": {},
   "outputs": [],
   "source": [
    "import pandas as pd\n",
    "from matplotlib import pyplot as plt"
   ]
  },
  {
   "cell_type": "code",
   "execution_count": 2,
   "metadata": {},
   "outputs": [],
   "source": [
    "import numpy as np\n",
    "import squarify\n",
    "from math import pi\n",
    "from PIL import Image\n",
    "from wordcloud import WordCloud"
   ]
  },
  {
   "cell_type": "markdown",
   "metadata": {},
   "source": [
    "> ### 1. Import Data"
   ]
  },
  {
   "cell_type": "code",
   "execution_count": 3,
   "metadata": {},
   "outputs": [],
   "source": [
    "df =  pd.read_csv('C:\\\\Users\\\\ASUS\\\\Documents\\\\Basic_Python\\\\python_dataviz\\\\2019_nCoV_data.csv')"
   ]
  },
  {
   "cell_type": "code",
   "execution_count": 4,
   "metadata": {
    "scrolled": false
   },
   "outputs": [
    {
     "data": {
      "text/html": [
       "<div>\n",
       "<style scoped>\n",
       "    .dataframe tbody tr th:only-of-type {\n",
       "        vertical-align: middle;\n",
       "    }\n",
       "\n",
       "    .dataframe tbody tr th {\n",
       "        vertical-align: top;\n",
       "    }\n",
       "\n",
       "    .dataframe thead th {\n",
       "        text-align: right;\n",
       "    }\n",
       "</style>\n",
       "<table border=\"1\" class=\"dataframe\">\n",
       "  <thead>\n",
       "    <tr style=\"text-align: right;\">\n",
       "      <th></th>\n",
       "      <th>Sno</th>\n",
       "      <th>Date</th>\n",
       "      <th>Province/State</th>\n",
       "      <th>Country</th>\n",
       "      <th>Last Update</th>\n",
       "      <th>Confirmed</th>\n",
       "      <th>Deaths</th>\n",
       "      <th>Recovered</th>\n",
       "    </tr>\n",
       "  </thead>\n",
       "  <tbody>\n",
       "    <tr>\n",
       "      <th>0</th>\n",
       "      <td>1</td>\n",
       "      <td>01/22/2020 12:00:00</td>\n",
       "      <td>Anhui</td>\n",
       "      <td>China</td>\n",
       "      <td>01/22/2020 12:00:00</td>\n",
       "      <td>1.0</td>\n",
       "      <td>0.0</td>\n",
       "      <td>0.0</td>\n",
       "    </tr>\n",
       "    <tr>\n",
       "      <th>1</th>\n",
       "      <td>2</td>\n",
       "      <td>01/22/2020 12:00:00</td>\n",
       "      <td>Beijing</td>\n",
       "      <td>China</td>\n",
       "      <td>01/22/2020 12:00:00</td>\n",
       "      <td>14.0</td>\n",
       "      <td>0.0</td>\n",
       "      <td>0.0</td>\n",
       "    </tr>\n",
       "    <tr>\n",
       "      <th>2</th>\n",
       "      <td>3</td>\n",
       "      <td>01/22/2020 12:00:00</td>\n",
       "      <td>Chongqing</td>\n",
       "      <td>China</td>\n",
       "      <td>01/22/2020 12:00:00</td>\n",
       "      <td>6.0</td>\n",
       "      <td>0.0</td>\n",
       "      <td>0.0</td>\n",
       "    </tr>\n",
       "    <tr>\n",
       "      <th>3</th>\n",
       "      <td>4</td>\n",
       "      <td>01/22/2020 12:00:00</td>\n",
       "      <td>Fujian</td>\n",
       "      <td>China</td>\n",
       "      <td>01/22/2020 12:00:00</td>\n",
       "      <td>1.0</td>\n",
       "      <td>0.0</td>\n",
       "      <td>0.0</td>\n",
       "    </tr>\n",
       "    <tr>\n",
       "      <th>4</th>\n",
       "      <td>5</td>\n",
       "      <td>01/22/2020 12:00:00</td>\n",
       "      <td>Gansu</td>\n",
       "      <td>China</td>\n",
       "      <td>01/22/2020 12:00:00</td>\n",
       "      <td>0.0</td>\n",
       "      <td>0.0</td>\n",
       "      <td>0.0</td>\n",
       "    </tr>\n",
       "    <tr>\n",
       "      <th>...</th>\n",
       "      <td>...</td>\n",
       "      <td>...</td>\n",
       "      <td>...</td>\n",
       "      <td>...</td>\n",
       "      <td>...</td>\n",
       "      <td>...</td>\n",
       "      <td>...</td>\n",
       "      <td>...</td>\n",
       "    </tr>\n",
       "    <tr>\n",
       "      <th>1714</th>\n",
       "      <td>1715</td>\n",
       "      <td>02/17/2020 22:00:00</td>\n",
       "      <td>Madison, WI</td>\n",
       "      <td>US</td>\n",
       "      <td>2020-02-05T21:53:02</td>\n",
       "      <td>1.0</td>\n",
       "      <td>0.0</td>\n",
       "      <td>0.0</td>\n",
       "    </tr>\n",
       "    <tr>\n",
       "      <th>1715</th>\n",
       "      <td>1716</td>\n",
       "      <td>02/17/2020 22:00:00</td>\n",
       "      <td>Orange, CA</td>\n",
       "      <td>US</td>\n",
       "      <td>2020-02-01T19:53:03</td>\n",
       "      <td>1.0</td>\n",
       "      <td>0.0</td>\n",
       "      <td>0.0</td>\n",
       "    </tr>\n",
       "    <tr>\n",
       "      <th>1716</th>\n",
       "      <td>1717</td>\n",
       "      <td>02/17/2020 22:00:00</td>\n",
       "      <td>San Antonio, TX</td>\n",
       "      <td>US</td>\n",
       "      <td>2020-02-13T18:53:02</td>\n",
       "      <td>1.0</td>\n",
       "      <td>0.0</td>\n",
       "      <td>0.0</td>\n",
       "    </tr>\n",
       "    <tr>\n",
       "      <th>1717</th>\n",
       "      <td>1718</td>\n",
       "      <td>02/17/2020 22:00:00</td>\n",
       "      <td>Seattle, WA</td>\n",
       "      <td>US</td>\n",
       "      <td>2020-02-09T07:03:04</td>\n",
       "      <td>1.0</td>\n",
       "      <td>0.0</td>\n",
       "      <td>1.0</td>\n",
       "    </tr>\n",
       "    <tr>\n",
       "      <th>1718</th>\n",
       "      <td>1719</td>\n",
       "      <td>02/17/2020 22:00:00</td>\n",
       "      <td>Tempe, AZ</td>\n",
       "      <td>US</td>\n",
       "      <td>2020-02-01T19:43:03</td>\n",
       "      <td>1.0</td>\n",
       "      <td>0.0</td>\n",
       "      <td>0.0</td>\n",
       "    </tr>\n",
       "  </tbody>\n",
       "</table>\n",
       "<p>1719 rows × 8 columns</p>\n",
       "</div>"
      ],
      "text/plain": [
       "       Sno                 Date   Province/State Country          Last Update  \\\n",
       "0        1  01/22/2020 12:00:00            Anhui   China  01/22/2020 12:00:00   \n",
       "1        2  01/22/2020 12:00:00          Beijing   China  01/22/2020 12:00:00   \n",
       "2        3  01/22/2020 12:00:00        Chongqing   China  01/22/2020 12:00:00   \n",
       "3        4  01/22/2020 12:00:00           Fujian   China  01/22/2020 12:00:00   \n",
       "4        5  01/22/2020 12:00:00            Gansu   China  01/22/2020 12:00:00   \n",
       "...    ...                  ...              ...     ...                  ...   \n",
       "1714  1715  02/17/2020 22:00:00      Madison, WI      US  2020-02-05T21:53:02   \n",
       "1715  1716  02/17/2020 22:00:00       Orange, CA      US  2020-02-01T19:53:03   \n",
       "1716  1717  02/17/2020 22:00:00  San Antonio, TX      US  2020-02-13T18:53:02   \n",
       "1717  1718  02/17/2020 22:00:00      Seattle, WA      US  2020-02-09T07:03:04   \n",
       "1718  1719  02/17/2020 22:00:00        Tempe, AZ      US  2020-02-01T19:43:03   \n",
       "\n",
       "      Confirmed  Deaths  Recovered  \n",
       "0           1.0     0.0        0.0  \n",
       "1          14.0     0.0        0.0  \n",
       "2           6.0     0.0        0.0  \n",
       "3           1.0     0.0        0.0  \n",
       "4           0.0     0.0        0.0  \n",
       "...         ...     ...        ...  \n",
       "1714        1.0     0.0        0.0  \n",
       "1715        1.0     0.0        0.0  \n",
       "1716        1.0     0.0        0.0  \n",
       "1717        1.0     0.0        1.0  \n",
       "1718        1.0     0.0        0.0  \n",
       "\n",
       "[1719 rows x 8 columns]"
      ]
     },
     "execution_count": 4,
     "metadata": {},
     "output_type": "execute_result"
    }
   ],
   "source": [
    "df"
   ]
  },
  {
   "cell_type": "markdown",
   "metadata": {},
   "source": [
    "> ### 2. ตรวจสอบดูว่าข้อมูลที่นำเข้ามา มี Missing หรือไม่"
   ]
  },
  {
   "cell_type": "code",
   "execution_count": 5,
   "metadata": {},
   "outputs": [
    {
     "data": {
      "text/html": [
       "<div>\n",
       "<style scoped>\n",
       "    .dataframe tbody tr th:only-of-type {\n",
       "        vertical-align: middle;\n",
       "    }\n",
       "\n",
       "    .dataframe tbody tr th {\n",
       "        vertical-align: top;\n",
       "    }\n",
       "\n",
       "    .dataframe thead th {\n",
       "        text-align: right;\n",
       "    }\n",
       "</style>\n",
       "<table border=\"1\" class=\"dataframe\">\n",
       "  <thead>\n",
       "    <tr style=\"text-align: right;\">\n",
       "      <th></th>\n",
       "      <th>Sno</th>\n",
       "      <th>Date</th>\n",
       "      <th>Province/State</th>\n",
       "      <th>Country</th>\n",
       "      <th>Last Update</th>\n",
       "      <th>Confirmed</th>\n",
       "      <th>Deaths</th>\n",
       "      <th>Recovered</th>\n",
       "    </tr>\n",
       "  </thead>\n",
       "  <tbody>\n",
       "    <tr>\n",
       "      <th>0</th>\n",
       "      <td>False</td>\n",
       "      <td>False</td>\n",
       "      <td>False</td>\n",
       "      <td>False</td>\n",
       "      <td>False</td>\n",
       "      <td>False</td>\n",
       "      <td>False</td>\n",
       "      <td>False</td>\n",
       "    </tr>\n",
       "    <tr>\n",
       "      <th>1</th>\n",
       "      <td>False</td>\n",
       "      <td>False</td>\n",
       "      <td>False</td>\n",
       "      <td>False</td>\n",
       "      <td>False</td>\n",
       "      <td>False</td>\n",
       "      <td>False</td>\n",
       "      <td>False</td>\n",
       "    </tr>\n",
       "    <tr>\n",
       "      <th>2</th>\n",
       "      <td>False</td>\n",
       "      <td>False</td>\n",
       "      <td>False</td>\n",
       "      <td>False</td>\n",
       "      <td>False</td>\n",
       "      <td>False</td>\n",
       "      <td>False</td>\n",
       "      <td>False</td>\n",
       "    </tr>\n",
       "    <tr>\n",
       "      <th>3</th>\n",
       "      <td>False</td>\n",
       "      <td>False</td>\n",
       "      <td>False</td>\n",
       "      <td>False</td>\n",
       "      <td>False</td>\n",
       "      <td>False</td>\n",
       "      <td>False</td>\n",
       "      <td>False</td>\n",
       "    </tr>\n",
       "    <tr>\n",
       "      <th>4</th>\n",
       "      <td>False</td>\n",
       "      <td>False</td>\n",
       "      <td>False</td>\n",
       "      <td>False</td>\n",
       "      <td>False</td>\n",
       "      <td>False</td>\n",
       "      <td>False</td>\n",
       "      <td>False</td>\n",
       "    </tr>\n",
       "    <tr>\n",
       "      <th>...</th>\n",
       "      <td>...</td>\n",
       "      <td>...</td>\n",
       "      <td>...</td>\n",
       "      <td>...</td>\n",
       "      <td>...</td>\n",
       "      <td>...</td>\n",
       "      <td>...</td>\n",
       "      <td>...</td>\n",
       "    </tr>\n",
       "    <tr>\n",
       "      <th>1714</th>\n",
       "      <td>False</td>\n",
       "      <td>False</td>\n",
       "      <td>False</td>\n",
       "      <td>False</td>\n",
       "      <td>False</td>\n",
       "      <td>False</td>\n",
       "      <td>False</td>\n",
       "      <td>False</td>\n",
       "    </tr>\n",
       "    <tr>\n",
       "      <th>1715</th>\n",
       "      <td>False</td>\n",
       "      <td>False</td>\n",
       "      <td>False</td>\n",
       "      <td>False</td>\n",
       "      <td>False</td>\n",
       "      <td>False</td>\n",
       "      <td>False</td>\n",
       "      <td>False</td>\n",
       "    </tr>\n",
       "    <tr>\n",
       "      <th>1716</th>\n",
       "      <td>False</td>\n",
       "      <td>False</td>\n",
       "      <td>False</td>\n",
       "      <td>False</td>\n",
       "      <td>False</td>\n",
       "      <td>False</td>\n",
       "      <td>False</td>\n",
       "      <td>False</td>\n",
       "    </tr>\n",
       "    <tr>\n",
       "      <th>1717</th>\n",
       "      <td>False</td>\n",
       "      <td>False</td>\n",
       "      <td>False</td>\n",
       "      <td>False</td>\n",
       "      <td>False</td>\n",
       "      <td>False</td>\n",
       "      <td>False</td>\n",
       "      <td>False</td>\n",
       "    </tr>\n",
       "    <tr>\n",
       "      <th>1718</th>\n",
       "      <td>False</td>\n",
       "      <td>False</td>\n",
       "      <td>False</td>\n",
       "      <td>False</td>\n",
       "      <td>False</td>\n",
       "      <td>False</td>\n",
       "      <td>False</td>\n",
       "      <td>False</td>\n",
       "    </tr>\n",
       "  </tbody>\n",
       "</table>\n",
       "<p>1719 rows × 8 columns</p>\n",
       "</div>"
      ],
      "text/plain": [
       "        Sno   Date  Province/State  Country  Last Update  Confirmed  Deaths  \\\n",
       "0     False  False           False    False        False      False   False   \n",
       "1     False  False           False    False        False      False   False   \n",
       "2     False  False           False    False        False      False   False   \n",
       "3     False  False           False    False        False      False   False   \n",
       "4     False  False           False    False        False      False   False   \n",
       "...     ...    ...             ...      ...          ...        ...     ...   \n",
       "1714  False  False           False    False        False      False   False   \n",
       "1715  False  False           False    False        False      False   False   \n",
       "1716  False  False           False    False        False      False   False   \n",
       "1717  False  False           False    False        False      False   False   \n",
       "1718  False  False           False    False        False      False   False   \n",
       "\n",
       "      Recovered  \n",
       "0         False  \n",
       "1         False  \n",
       "2         False  \n",
       "3         False  \n",
       "4         False  \n",
       "...         ...  \n",
       "1714      False  \n",
       "1715      False  \n",
       "1716      False  \n",
       "1717      False  \n",
       "1718      False  \n",
       "\n",
       "[1719 rows x 8 columns]"
      ]
     },
     "execution_count": 5,
     "metadata": {},
     "output_type": "execute_result"
    }
   ],
   "source": [
    "df.isnull()"
   ]
  },
  {
   "cell_type": "code",
   "execution_count": 6,
   "metadata": {},
   "outputs": [
    {
     "data": {
      "text/plain": [
       "Sno               False\n",
       "Date              False\n",
       "Province/State     True\n",
       "Country           False\n",
       "Last Update       False\n",
       "Confirmed         False\n",
       "Deaths            False\n",
       "Recovered         False\n",
       "dtype: bool"
      ]
     },
     "execution_count": 6,
     "metadata": {},
     "output_type": "execute_result"
    }
   ],
   "source": [
    "df.isnull().any()"
   ]
  },
  {
   "cell_type": "markdown",
   "metadata": {},
   "source": [
    "- Province/State    แสดงค่า  True แสดงว่ามี Missing อยู่ใน Columns นั้น"
   ]
  },
  {
   "cell_type": "code",
   "execution_count": 7,
   "metadata": {},
   "outputs": [
    {
     "data": {
      "text/plain": [
       "(1719, 8)"
      ]
     },
     "execution_count": 7,
     "metadata": {},
     "output_type": "execute_result"
    }
   ],
   "source": [
    "df.shape"
   ]
  },
  {
   "cell_type": "markdown",
   "metadata": {},
   "source": [
    "> ### 3.แก้ไข Missing โดยการวนลูปให้นำค่าจาก Columns 'Country' มาแทนค่า Missing ใน 'Province/State' แทน  "
   ]
  },
  {
   "cell_type": "code",
   "execution_count": 8,
   "metadata": {},
   "outputs": [],
   "source": [
    "StateMis = df['Province/State'].isnull()"
   ]
  },
  {
   "cell_type": "code",
   "execution_count": 9,
   "metadata": {},
   "outputs": [
    {
     "data": {
      "text/plain": [
       "0       False\n",
       "1       False\n",
       "2       False\n",
       "3       False\n",
       "4       False\n",
       "        ...  \n",
       "1714    False\n",
       "1715    False\n",
       "1716    False\n",
       "1717    False\n",
       "1718    False\n",
       "Name: Province/State, Length: 1719, dtype: bool"
      ]
     },
     "execution_count": 9,
     "metadata": {},
     "output_type": "execute_result"
    }
   ],
   "source": [
    "StateMis"
   ]
  },
  {
   "cell_type": "code",
   "execution_count": 10,
   "metadata": {},
   "outputs": [
    {
     "name": "stderr",
     "output_type": "stream",
     "text": [
      "D:\\Python3.7\\lib\\site-packages\\ipykernel_launcher.py:3: SettingWithCopyWarning: \n",
      "A value is trying to be set on a copy of a slice from a DataFrame\n",
      "\n",
      "See the caveats in the documentation: http://pandas.pydata.org/pandas-docs/stable/user_guide/indexing.html#returning-a-view-versus-a-copy\n",
      "  This is separate from the ipykernel package so we can avoid doing imports until\n"
     ]
    }
   ],
   "source": [
    "for i in range(len(df)) :\n",
    "    if StateMis[i] :\n",
    "        df['Province/State'][i] = df['Country'][i]"
   ]
  },
  {
   "cell_type": "markdown",
   "metadata": {},
   "source": [
    "> ### 4. ตรวจสอบค่า Missing อีกครั้ง"
   ]
  },
  {
   "cell_type": "code",
   "execution_count": 11,
   "metadata": {},
   "outputs": [
    {
     "data": {
      "text/plain": [
       "Sno               False\n",
       "Date              False\n",
       "Province/State    False\n",
       "Country           False\n",
       "Last Update       False\n",
       "Confirmed         False\n",
       "Deaths            False\n",
       "Recovered         False\n",
       "dtype: bool"
      ]
     },
     "execution_count": 11,
     "metadata": {},
     "output_type": "execute_result"
    }
   ],
   "source": [
    "df.isnull().any()"
   ]
  },
  {
   "cell_type": "markdown",
   "metadata": {},
   "source": [
    "- Columns ชื่อ  'Province/State'    แสดงค่า False นั่นคือไม่มีค่า Missing แล้ว"
   ]
  },
  {
   "cell_type": "code",
   "execution_count": 12,
   "metadata": {
    "scrolled": true
   },
   "outputs": [
    {
     "data": {
      "text/html": [
       "<div>\n",
       "<style scoped>\n",
       "    .dataframe tbody tr th:only-of-type {\n",
       "        vertical-align: middle;\n",
       "    }\n",
       "\n",
       "    .dataframe tbody tr th {\n",
       "        vertical-align: top;\n",
       "    }\n",
       "\n",
       "    .dataframe thead th {\n",
       "        text-align: right;\n",
       "    }\n",
       "</style>\n",
       "<table border=\"1\" class=\"dataframe\">\n",
       "  <thead>\n",
       "    <tr style=\"text-align: right;\">\n",
       "      <th></th>\n",
       "      <th>Sno</th>\n",
       "      <th>Date</th>\n",
       "      <th>Province/State</th>\n",
       "      <th>Country</th>\n",
       "      <th>Last Update</th>\n",
       "      <th>Confirmed</th>\n",
       "      <th>Deaths</th>\n",
       "      <th>Recovered</th>\n",
       "    </tr>\n",
       "  </thead>\n",
       "  <tbody>\n",
       "    <tr>\n",
       "      <th>1711</th>\n",
       "      <td>1712</td>\n",
       "      <td>02/17/2020 22:00:00</td>\n",
       "      <td>Sweden</td>\n",
       "      <td>Sweden</td>\n",
       "      <td>2020-02-01T02:13:26</td>\n",
       "      <td>1.0</td>\n",
       "      <td>0.0</td>\n",
       "      <td>0.0</td>\n",
       "    </tr>\n",
       "    <tr>\n",
       "      <th>1712</th>\n",
       "      <td>1713</td>\n",
       "      <td>02/17/2020 22:00:00</td>\n",
       "      <td>Boston, MA</td>\n",
       "      <td>US</td>\n",
       "      <td>2020-02-01T19:43:03</td>\n",
       "      <td>1.0</td>\n",
       "      <td>0.0</td>\n",
       "      <td>0.0</td>\n",
       "    </tr>\n",
       "  </tbody>\n",
       "</table>\n",
       "</div>"
      ],
      "text/plain": [
       "       Sno                 Date Province/State Country          Last Update  \\\n",
       "1711  1712  02/17/2020 22:00:00         Sweden  Sweden  2020-02-01T02:13:26   \n",
       "1712  1713  02/17/2020 22:00:00     Boston, MA      US  2020-02-01T19:43:03   \n",
       "\n",
       "      Confirmed  Deaths  Recovered  \n",
       "1711        1.0     0.0        0.0  \n",
       "1712        1.0     0.0        0.0  "
      ]
     },
     "execution_count": 12,
     "metadata": {},
     "output_type": "execute_result"
    }
   ],
   "source": [
    "df.iloc[1711:1713,:]"
   ]
  },
  {
   "cell_type": "markdown",
   "metadata": {},
   "source": [
    "> ### 5.  สร้าง columns ใหม่ ชื่อ'Date_new' โดยเอาปีและเวลาออก เก็บไว้ใน 'date_new'"
   ]
  },
  {
   "cell_type": "code",
   "execution_count": 13,
   "metadata": {
    "scrolled": true
   },
   "outputs": [
    {
     "data": {
      "text/plain": [
       "['01/22',\n",
       " '01/22',\n",
       " '01/22',\n",
       " '01/22',\n",
       " '01/22',\n",
       " '01/22',\n",
       " '01/22',\n",
       " '01/22',\n",
       " '01/22',\n",
       " '01/22',\n",
       " '01/22',\n",
       " '01/22',\n",
       " '01/22',\n",
       " '01/22',\n",
       " '01/22',\n",
       " '01/22',\n",
       " '01/22',\n",
       " '01/22',\n",
       " '01/22',\n",
       " '01/22',\n",
       " '01/22',\n",
       " '01/22',\n",
       " '01/22',\n",
       " '01/22',\n",
       " '01/22',\n",
       " '01/22',\n",
       " '01/22',\n",
       " '01/22',\n",
       " '01/22',\n",
       " '01/22',\n",
       " '01/22',\n",
       " '01/22',\n",
       " '01/22',\n",
       " '01/22',\n",
       " '01/22',\n",
       " '01/22',\n",
       " '01/22',\n",
       " '01/22',\n",
       " '01/23',\n",
       " '01/23',\n",
       " '01/23',\n",
       " '01/23',\n",
       " '01/23',\n",
       " '01/23',\n",
       " '01/23',\n",
       " '01/23',\n",
       " '01/23',\n",
       " '01/23',\n",
       " '01/23',\n",
       " '01/23',\n",
       " '01/23',\n",
       " '01/23',\n",
       " '01/23',\n",
       " '01/23',\n",
       " '01/23',\n",
       " '01/23',\n",
       " '01/23',\n",
       " '01/23',\n",
       " '01/23',\n",
       " '01/23',\n",
       " '01/23',\n",
       " '01/23',\n",
       " '01/23',\n",
       " '01/23',\n",
       " '01/23',\n",
       " '01/23',\n",
       " '01/23',\n",
       " '01/23',\n",
       " '01/23',\n",
       " '01/23',\n",
       " '01/23',\n",
       " '01/23',\n",
       " '01/23',\n",
       " '01/23',\n",
       " '01/23',\n",
       " '01/23',\n",
       " '01/23',\n",
       " '01/23',\n",
       " '01/23',\n",
       " '01/23',\n",
       " '01/23',\n",
       " '01/23',\n",
       " '01/23',\n",
       " '01/24',\n",
       " '01/24',\n",
       " '01/24',\n",
       " '01/24',\n",
       " '01/24',\n",
       " '01/24',\n",
       " '01/24',\n",
       " '01/24',\n",
       " '01/24',\n",
       " '01/24',\n",
       " '01/24',\n",
       " '01/24',\n",
       " '01/24',\n",
       " '01/24',\n",
       " '01/24',\n",
       " '01/24',\n",
       " '01/24',\n",
       " '01/24',\n",
       " '01/24',\n",
       " '01/24',\n",
       " '01/24',\n",
       " '01/24',\n",
       " '01/24',\n",
       " '01/24',\n",
       " '01/24',\n",
       " '01/24',\n",
       " '01/24',\n",
       " '01/24',\n",
       " '01/24',\n",
       " '01/24',\n",
       " '01/24',\n",
       " '01/24',\n",
       " '01/24',\n",
       " '01/24',\n",
       " '01/24',\n",
       " '01/24',\n",
       " '01/24',\n",
       " '01/24',\n",
       " '01/24',\n",
       " '01/24',\n",
       " '01/24',\n",
       " '01/25',\n",
       " '01/25',\n",
       " '01/25',\n",
       " '01/25',\n",
       " '01/25',\n",
       " '01/25',\n",
       " '01/25',\n",
       " '01/25',\n",
       " '01/25',\n",
       " '01/25',\n",
       " '01/25',\n",
       " '01/25',\n",
       " '01/25',\n",
       " '01/25',\n",
       " '01/25',\n",
       " '01/25',\n",
       " '01/25',\n",
       " '01/25',\n",
       " '01/25',\n",
       " '01/25',\n",
       " '01/25',\n",
       " '01/25',\n",
       " '01/25',\n",
       " '01/25',\n",
       " '01/25',\n",
       " '01/25',\n",
       " '01/25',\n",
       " '01/25',\n",
       " '01/25',\n",
       " '01/25',\n",
       " '01/25',\n",
       " '01/25',\n",
       " '01/25',\n",
       " '01/25',\n",
       " '01/25',\n",
       " '01/25',\n",
       " '01/25',\n",
       " '01/25',\n",
       " '01/25',\n",
       " '01/25',\n",
       " '01/25',\n",
       " '01/25',\n",
       " '01/25',\n",
       " '01/25',\n",
       " '01/26',\n",
       " '01/26',\n",
       " '01/26',\n",
       " '01/26',\n",
       " '01/26',\n",
       " '01/26',\n",
       " '01/26',\n",
       " '01/26',\n",
       " '01/26',\n",
       " '01/26',\n",
       " '01/26',\n",
       " '01/26',\n",
       " '01/26',\n",
       " '01/26',\n",
       " '01/26',\n",
       " '01/26',\n",
       " '01/26',\n",
       " '01/26',\n",
       " '01/26',\n",
       " '01/26',\n",
       " '01/26',\n",
       " '01/26',\n",
       " '01/26',\n",
       " '01/26',\n",
       " '01/26',\n",
       " '01/26',\n",
       " '01/26',\n",
       " '01/26',\n",
       " '01/26',\n",
       " '01/26',\n",
       " '01/26',\n",
       " '01/26',\n",
       " '01/26',\n",
       " '01/26',\n",
       " '01/26',\n",
       " '01/26',\n",
       " '01/26',\n",
       " '01/26',\n",
       " '01/26',\n",
       " '01/26',\n",
       " '01/26',\n",
       " '01/26',\n",
       " '01/26',\n",
       " '01/26',\n",
       " '01/26',\n",
       " '01/26',\n",
       " '01/26',\n",
       " '01/27',\n",
       " '01/27',\n",
       " '01/27',\n",
       " '01/27',\n",
       " '01/27',\n",
       " '01/27',\n",
       " '01/27',\n",
       " '01/27',\n",
       " '01/27',\n",
       " '01/27',\n",
       " '01/27',\n",
       " '01/27',\n",
       " '01/27',\n",
       " '01/27',\n",
       " '01/27',\n",
       " '01/27',\n",
       " '01/27',\n",
       " '01/27',\n",
       " '01/27',\n",
       " '01/27',\n",
       " '01/27',\n",
       " '01/27',\n",
       " '01/27',\n",
       " '01/27',\n",
       " '01/27',\n",
       " '01/27',\n",
       " '01/27',\n",
       " '01/27',\n",
       " '01/27',\n",
       " '01/27',\n",
       " '01/27',\n",
       " '01/27',\n",
       " '01/27',\n",
       " '01/27',\n",
       " '01/27',\n",
       " '01/27',\n",
       " '01/27',\n",
       " '01/27',\n",
       " '01/27',\n",
       " '01/27',\n",
       " '01/27',\n",
       " '01/27',\n",
       " '01/27',\n",
       " '01/27',\n",
       " '01/27',\n",
       " '01/27',\n",
       " '01/27',\n",
       " '01/27',\n",
       " '01/27',\n",
       " '01/27',\n",
       " '01/27',\n",
       " '01/27',\n",
       " '01/28',\n",
       " '01/28',\n",
       " '01/28',\n",
       " '01/28',\n",
       " '01/28',\n",
       " '01/28',\n",
       " '01/28',\n",
       " '01/28',\n",
       " '01/28',\n",
       " '01/28',\n",
       " '01/28',\n",
       " '01/28',\n",
       " '01/28',\n",
       " '01/28',\n",
       " '01/28',\n",
       " '01/28',\n",
       " '01/28',\n",
       " '01/28',\n",
       " '01/28',\n",
       " '01/28',\n",
       " '01/28',\n",
       " '01/28',\n",
       " '01/28',\n",
       " '01/28',\n",
       " '01/28',\n",
       " '01/28',\n",
       " '01/28',\n",
       " '01/28',\n",
       " '01/28',\n",
       " '01/28',\n",
       " '01/28',\n",
       " '01/28',\n",
       " '01/28',\n",
       " '01/28',\n",
       " '01/28',\n",
       " '01/28',\n",
       " '01/28',\n",
       " '01/28',\n",
       " '01/28',\n",
       " '01/28',\n",
       " '01/28',\n",
       " '01/28',\n",
       " '01/28',\n",
       " '01/28',\n",
       " '01/28',\n",
       " '01/28',\n",
       " '01/28',\n",
       " '01/28',\n",
       " '01/28',\n",
       " '01/28',\n",
       " '01/28',\n",
       " '01/28',\n",
       " '01/29',\n",
       " '01/29',\n",
       " '01/29',\n",
       " '01/29',\n",
       " '01/29',\n",
       " '01/29',\n",
       " '01/29',\n",
       " '01/29',\n",
       " '01/29',\n",
       " '01/29',\n",
       " '01/29',\n",
       " '01/29',\n",
       " '01/29',\n",
       " '01/29',\n",
       " '01/29',\n",
       " '01/29',\n",
       " '01/29',\n",
       " '01/29',\n",
       " '01/29',\n",
       " '01/29',\n",
       " '01/29',\n",
       " '01/29',\n",
       " '01/29',\n",
       " '01/29',\n",
       " '01/29',\n",
       " '01/29',\n",
       " '01/29',\n",
       " '01/29',\n",
       " '01/29',\n",
       " '01/29',\n",
       " '01/29',\n",
       " '01/29',\n",
       " '01/29',\n",
       " '01/29',\n",
       " '01/29',\n",
       " '01/29',\n",
       " '01/29',\n",
       " '01/29',\n",
       " '01/29',\n",
       " '01/29',\n",
       " '01/29',\n",
       " '01/29',\n",
       " '01/29',\n",
       " '01/29',\n",
       " '01/29',\n",
       " '01/29',\n",
       " '01/29',\n",
       " '01/29',\n",
       " '01/29',\n",
       " '01/29',\n",
       " '01/29',\n",
       " '01/29',\n",
       " '01/29',\n",
       " '01/29',\n",
       " '01/29',\n",
       " '01/29',\n",
       " '01/30',\n",
       " '01/30',\n",
       " '01/30',\n",
       " '01/30',\n",
       " '01/30',\n",
       " '01/30',\n",
       " '01/30',\n",
       " '01/30',\n",
       " '01/30',\n",
       " '01/30',\n",
       " '01/30',\n",
       " '01/30',\n",
       " '01/30',\n",
       " '01/30',\n",
       " '01/30',\n",
       " '01/30',\n",
       " '01/30',\n",
       " '01/30',\n",
       " '01/30',\n",
       " '01/30',\n",
       " '01/30',\n",
       " '01/30',\n",
       " '01/30',\n",
       " '01/30',\n",
       " '01/30',\n",
       " '01/30',\n",
       " '01/30',\n",
       " '01/30',\n",
       " '01/30',\n",
       " '01/30',\n",
       " '01/30',\n",
       " '01/30',\n",
       " '01/30',\n",
       " '01/30',\n",
       " '01/30',\n",
       " '01/30',\n",
       " '01/30',\n",
       " '01/30',\n",
       " '01/30',\n",
       " '01/30',\n",
       " '01/30',\n",
       " '01/30',\n",
       " '01/30',\n",
       " '01/30',\n",
       " '01/30',\n",
       " '01/30',\n",
       " '01/30',\n",
       " '01/30',\n",
       " '01/30',\n",
       " '01/30',\n",
       " '01/30',\n",
       " '01/30',\n",
       " '01/30',\n",
       " '01/30',\n",
       " '01/30',\n",
       " '01/30',\n",
       " '01/30',\n",
       " '01/30',\n",
       " '01/30',\n",
       " '01/31',\n",
       " '01/31',\n",
       " '01/31',\n",
       " '01/31',\n",
       " '01/31',\n",
       " '01/31',\n",
       " '01/31',\n",
       " '01/31',\n",
       " '01/31',\n",
       " '01/31',\n",
       " '01/31',\n",
       " '01/31',\n",
       " '01/31',\n",
       " '01/31',\n",
       " '01/31',\n",
       " '01/31',\n",
       " '01/31',\n",
       " '01/31',\n",
       " '01/31',\n",
       " '01/31',\n",
       " '01/31',\n",
       " '01/31',\n",
       " '01/31',\n",
       " '01/31',\n",
       " '01/31',\n",
       " '01/31',\n",
       " '01/31',\n",
       " '01/31',\n",
       " '01/31',\n",
       " '01/31',\n",
       " '01/31',\n",
       " '01/31',\n",
       " '01/31',\n",
       " '01/31',\n",
       " '01/31',\n",
       " '01/31',\n",
       " '01/31',\n",
       " '01/31',\n",
       " '01/31',\n",
       " '01/31',\n",
       " '01/31',\n",
       " '01/31',\n",
       " '01/31',\n",
       " '01/31',\n",
       " '01/31',\n",
       " '01/31',\n",
       " '01/31',\n",
       " '01/31',\n",
       " '01/31',\n",
       " '01/31',\n",
       " '01/31',\n",
       " '01/31',\n",
       " '01/31',\n",
       " '01/31',\n",
       " '01/31',\n",
       " '01/31',\n",
       " '01/31',\n",
       " '01/31',\n",
       " '01/31',\n",
       " '01/31',\n",
       " '01/31',\n",
       " '01/31',\n",
       " '01/31',\n",
       " '02/01',\n",
       " '02/01',\n",
       " '02/01',\n",
       " '02/01',\n",
       " '02/01',\n",
       " '02/01',\n",
       " '02/01',\n",
       " '02/01',\n",
       " '02/01',\n",
       " '02/01',\n",
       " '02/01',\n",
       " '02/01',\n",
       " '02/01',\n",
       " '02/01',\n",
       " '02/01',\n",
       " '02/01',\n",
       " '02/01',\n",
       " '02/01',\n",
       " '02/01',\n",
       " '02/01',\n",
       " '02/01',\n",
       " '02/01',\n",
       " '02/01',\n",
       " '02/01',\n",
       " '02/01',\n",
       " '02/01',\n",
       " '02/01',\n",
       " '02/01',\n",
       " '02/01',\n",
       " '02/01',\n",
       " '02/01',\n",
       " '02/01',\n",
       " '02/01',\n",
       " '02/01',\n",
       " '02/01',\n",
       " '02/01',\n",
       " '02/01',\n",
       " '02/01',\n",
       " '02/01',\n",
       " '02/01',\n",
       " '02/01',\n",
       " '02/01',\n",
       " '02/01',\n",
       " '02/01',\n",
       " '02/01',\n",
       " '02/01',\n",
       " '02/01',\n",
       " '02/01',\n",
       " '02/01',\n",
       " '02/01',\n",
       " '02/01',\n",
       " '02/01',\n",
       " '02/01',\n",
       " '02/01',\n",
       " '02/01',\n",
       " '02/01',\n",
       " '02/01',\n",
       " '02/01',\n",
       " '02/01',\n",
       " '02/01',\n",
       " '02/01',\n",
       " '02/01',\n",
       " '02/01',\n",
       " '02/01',\n",
       " '02/01',\n",
       " '02/01',\n",
       " '02/01',\n",
       " '02/02',\n",
       " '02/02',\n",
       " '02/02',\n",
       " '02/02',\n",
       " '02/02',\n",
       " '02/02',\n",
       " '02/02',\n",
       " '02/02',\n",
       " '02/02',\n",
       " '02/02',\n",
       " '02/02',\n",
       " '02/02',\n",
       " '02/02',\n",
       " '02/02',\n",
       " '02/02',\n",
       " '02/02',\n",
       " '02/02',\n",
       " '02/02',\n",
       " '02/02',\n",
       " '02/02',\n",
       " '02/02',\n",
       " '02/02',\n",
       " '02/02',\n",
       " '02/02',\n",
       " '02/02',\n",
       " '02/02',\n",
       " '02/02',\n",
       " '02/02',\n",
       " '02/02',\n",
       " '02/02',\n",
       " '02/02',\n",
       " '02/02',\n",
       " '02/02',\n",
       " '02/02',\n",
       " '02/02',\n",
       " '02/02',\n",
       " '02/02',\n",
       " '02/02',\n",
       " '02/02',\n",
       " '02/02',\n",
       " '02/02',\n",
       " '02/02',\n",
       " '02/02',\n",
       " '02/02',\n",
       " '02/02',\n",
       " '02/02',\n",
       " '02/02',\n",
       " '02/02',\n",
       " '02/02',\n",
       " '02/02',\n",
       " '02/02',\n",
       " '02/02',\n",
       " '02/02',\n",
       " '02/02',\n",
       " '02/02',\n",
       " '02/02',\n",
       " '02/02',\n",
       " '02/02',\n",
       " '02/02',\n",
       " '02/02',\n",
       " '02/02',\n",
       " '02/02',\n",
       " '02/02',\n",
       " '02/02',\n",
       " '02/02',\n",
       " '02/02',\n",
       " '02/02',\n",
       " '02/03',\n",
       " '02/03',\n",
       " '02/03',\n",
       " '02/03',\n",
       " '02/03',\n",
       " '02/03',\n",
       " '02/03',\n",
       " '02/03',\n",
       " '02/03',\n",
       " '02/03',\n",
       " '02/03',\n",
       " '02/03',\n",
       " '02/03',\n",
       " '02/03',\n",
       " '02/03',\n",
       " '02/03',\n",
       " '02/03',\n",
       " '02/03',\n",
       " '02/03',\n",
       " '02/03',\n",
       " '02/03',\n",
       " '02/03',\n",
       " '02/03',\n",
       " '02/03',\n",
       " '02/03',\n",
       " '02/03',\n",
       " '02/03',\n",
       " '02/03',\n",
       " '02/03',\n",
       " '02/03',\n",
       " '02/03',\n",
       " '02/03',\n",
       " '02/03',\n",
       " '02/03',\n",
       " '02/03',\n",
       " '02/03',\n",
       " '02/03',\n",
       " '02/03',\n",
       " '02/03',\n",
       " '02/03',\n",
       " '02/03',\n",
       " '02/03',\n",
       " '02/03',\n",
       " '02/03',\n",
       " '02/03',\n",
       " '02/03',\n",
       " '02/03',\n",
       " '02/03',\n",
       " '02/03',\n",
       " '02/03',\n",
       " '02/03',\n",
       " '02/03',\n",
       " '02/03',\n",
       " '02/03',\n",
       " '02/03',\n",
       " '02/03',\n",
       " '02/03',\n",
       " '02/03',\n",
       " '02/03',\n",
       " '02/03',\n",
       " '02/03',\n",
       " '02/03',\n",
       " '02/03',\n",
       " '02/03',\n",
       " '02/03',\n",
       " '02/03',\n",
       " '02/03',\n",
       " '02/03',\n",
       " '02/03',\n",
       " '02/04',\n",
       " '02/04',\n",
       " '02/04',\n",
       " '02/04',\n",
       " '02/04',\n",
       " '02/04',\n",
       " '02/04',\n",
       " '02/04',\n",
       " '02/04',\n",
       " '02/04',\n",
       " '02/04',\n",
       " '02/04',\n",
       " '02/04',\n",
       " '02/04',\n",
       " '02/04',\n",
       " '02/04',\n",
       " '02/04',\n",
       " '02/04',\n",
       " '02/04',\n",
       " '02/04',\n",
       " '02/04',\n",
       " '02/04',\n",
       " '02/04',\n",
       " '02/04',\n",
       " '02/04',\n",
       " '02/04',\n",
       " '02/04',\n",
       " '02/04',\n",
       " '02/04',\n",
       " '02/04',\n",
       " '02/04',\n",
       " '02/04',\n",
       " '02/04',\n",
       " '02/04',\n",
       " '02/04',\n",
       " '02/04',\n",
       " '02/04',\n",
       " '02/04',\n",
       " '02/04',\n",
       " '02/04',\n",
       " '02/04',\n",
       " '02/04',\n",
       " '02/04',\n",
       " '02/04',\n",
       " '02/04',\n",
       " '02/04',\n",
       " '02/04',\n",
       " '02/04',\n",
       " '02/04',\n",
       " '02/04',\n",
       " '02/04',\n",
       " '02/04',\n",
       " '02/04',\n",
       " '02/04',\n",
       " '02/04',\n",
       " '02/04',\n",
       " '02/04',\n",
       " '02/04',\n",
       " '02/04',\n",
       " '02/04',\n",
       " '02/04',\n",
       " '02/04',\n",
       " '02/04',\n",
       " '02/04',\n",
       " '02/04',\n",
       " '02/04',\n",
       " '02/04',\n",
       " '02/04',\n",
       " '02/04',\n",
       " '02/04',\n",
       " '02/05',\n",
       " '02/05',\n",
       " '02/05',\n",
       " '02/05',\n",
       " '02/05',\n",
       " '02/05',\n",
       " '02/05',\n",
       " '02/05',\n",
       " '02/05',\n",
       " '02/05',\n",
       " '02/05',\n",
       " '02/05',\n",
       " '02/05',\n",
       " '02/05',\n",
       " '02/05',\n",
       " '02/05',\n",
       " '02/05',\n",
       " '02/05',\n",
       " '02/05',\n",
       " '02/05',\n",
       " '02/05',\n",
       " '02/05',\n",
       " '02/05',\n",
       " '02/05',\n",
       " '02/05',\n",
       " '02/05',\n",
       " '02/05',\n",
       " '02/05',\n",
       " '02/05',\n",
       " '02/05',\n",
       " '02/05',\n",
       " '02/05',\n",
       " '02/05',\n",
       " '02/05',\n",
       " '02/05',\n",
       " '02/05',\n",
       " '02/05',\n",
       " '02/05',\n",
       " '02/05',\n",
       " '02/05',\n",
       " '02/05',\n",
       " '02/05',\n",
       " '02/05',\n",
       " '02/05',\n",
       " '02/05',\n",
       " '02/05',\n",
       " '02/05',\n",
       " '02/05',\n",
       " '02/05',\n",
       " '02/05',\n",
       " '02/05',\n",
       " '02/05',\n",
       " '02/05',\n",
       " '02/05',\n",
       " '02/05',\n",
       " '02/05',\n",
       " '02/05',\n",
       " '02/05',\n",
       " '02/05',\n",
       " '02/05',\n",
       " '02/05',\n",
       " '02/05',\n",
       " '02/05',\n",
       " '02/05',\n",
       " '02/05',\n",
       " '02/05',\n",
       " '02/05',\n",
       " '02/05',\n",
       " '02/05',\n",
       " '02/05',\n",
       " '02/06',\n",
       " '02/06',\n",
       " '02/06',\n",
       " '02/06',\n",
       " '02/06',\n",
       " '02/06',\n",
       " '02/06',\n",
       " '02/06',\n",
       " '02/06',\n",
       " '02/06',\n",
       " '02/06',\n",
       " '02/06',\n",
       " '02/06',\n",
       " '02/06',\n",
       " '02/06',\n",
       " '02/06',\n",
       " '02/06',\n",
       " '02/06',\n",
       " '02/06',\n",
       " '02/06',\n",
       " '02/06',\n",
       " '02/06',\n",
       " '02/06',\n",
       " '02/06',\n",
       " '02/06',\n",
       " '02/06',\n",
       " '02/06',\n",
       " '02/06',\n",
       " '02/06',\n",
       " '02/06',\n",
       " '02/06',\n",
       " '02/06',\n",
       " '02/06',\n",
       " '02/06',\n",
       " '02/06',\n",
       " '02/06',\n",
       " '02/06',\n",
       " '02/06',\n",
       " '02/06',\n",
       " '02/06',\n",
       " '02/06',\n",
       " '02/06',\n",
       " '02/06',\n",
       " '02/06',\n",
       " '02/06',\n",
       " '02/06',\n",
       " '02/06',\n",
       " '02/06',\n",
       " '02/06',\n",
       " '02/06',\n",
       " '02/06',\n",
       " '02/06',\n",
       " '02/06',\n",
       " '02/06',\n",
       " '02/06',\n",
       " '02/06',\n",
       " '02/06',\n",
       " '02/06',\n",
       " '02/06',\n",
       " '02/06',\n",
       " '02/06',\n",
       " '02/06',\n",
       " '02/06',\n",
       " '02/06',\n",
       " '02/06',\n",
       " '02/06',\n",
       " '02/06',\n",
       " '02/06',\n",
       " '02/06',\n",
       " '02/06',\n",
       " '02/06',\n",
       " '02/07',\n",
       " '02/07',\n",
       " '02/07',\n",
       " '02/07',\n",
       " '02/07',\n",
       " '02/07',\n",
       " '02/07',\n",
       " '02/07',\n",
       " '02/07',\n",
       " '02/07',\n",
       " '02/07',\n",
       " '02/07',\n",
       " '02/07',\n",
       " '02/07',\n",
       " '02/07',\n",
       " '02/07',\n",
       " '02/07',\n",
       " '02/07',\n",
       " '02/07',\n",
       " '02/07',\n",
       " '02/07',\n",
       " '02/07',\n",
       " '02/07',\n",
       " '02/07',\n",
       " '02/07',\n",
       " '02/07',\n",
       " '02/07',\n",
       " '02/07',\n",
       " '02/07',\n",
       " '02/07',\n",
       " '02/07',\n",
       " '02/07',\n",
       " '02/07',\n",
       " '02/07',\n",
       " '02/07',\n",
       " '02/07',\n",
       " '02/07',\n",
       " '02/07',\n",
       " '02/07',\n",
       " '02/07',\n",
       " '02/07',\n",
       " '02/07',\n",
       " '02/07',\n",
       " '02/07',\n",
       " '02/07',\n",
       " '02/07',\n",
       " '02/07',\n",
       " '02/07',\n",
       " '02/07',\n",
       " '02/07',\n",
       " '02/07',\n",
       " '02/07',\n",
       " '02/07',\n",
       " '02/07',\n",
       " '02/07',\n",
       " '02/07',\n",
       " '02/07',\n",
       " '02/07',\n",
       " '02/07',\n",
       " '02/07',\n",
       " '02/07',\n",
       " '02/07',\n",
       " '02/07',\n",
       " '02/07',\n",
       " '02/07',\n",
       " '02/07',\n",
       " '02/07',\n",
       " '02/07',\n",
       " '02/07',\n",
       " '02/07',\n",
       " '02/07',\n",
       " '02/07',\n",
       " '02/08',\n",
       " '02/08',\n",
       " '02/08',\n",
       " '02/08',\n",
       " '02/08',\n",
       " '02/08',\n",
       " '02/08',\n",
       " '02/08',\n",
       " '02/08',\n",
       " '02/08',\n",
       " '02/08',\n",
       " '02/08',\n",
       " '02/08',\n",
       " '02/08',\n",
       " '02/08',\n",
       " '02/08',\n",
       " '02/08',\n",
       " ...]"
      ]
     },
     "execution_count": 13,
     "metadata": {},
     "output_type": "execute_result"
    }
   ],
   "source": [
    "date_new = []\n",
    "for i in range(df.shape[0]):\n",
    "    split_new = df.iloc[i]['Date'].split(' ')\n",
    "    split_new = split_new[0].replace('/2020', '')\n",
    "    date_new.append(split_new)\n",
    "date_new"
   ]
  },
  {
   "cell_type": "code",
   "execution_count": 14,
   "metadata": {},
   "outputs": [],
   "source": [
    "df['Date_new'] = date_new"
   ]
  },
  {
   "cell_type": "code",
   "execution_count": 15,
   "metadata": {
    "scrolled": true
   },
   "outputs": [
    {
     "data": {
      "text/html": [
       "<div>\n",
       "<style scoped>\n",
       "    .dataframe tbody tr th:only-of-type {\n",
       "        vertical-align: middle;\n",
       "    }\n",
       "\n",
       "    .dataframe tbody tr th {\n",
       "        vertical-align: top;\n",
       "    }\n",
       "\n",
       "    .dataframe thead th {\n",
       "        text-align: right;\n",
       "    }\n",
       "</style>\n",
       "<table border=\"1\" class=\"dataframe\">\n",
       "  <thead>\n",
       "    <tr style=\"text-align: right;\">\n",
       "      <th></th>\n",
       "      <th>Sno</th>\n",
       "      <th>Date</th>\n",
       "      <th>Province/State</th>\n",
       "      <th>Country</th>\n",
       "      <th>Last Update</th>\n",
       "      <th>Confirmed</th>\n",
       "      <th>Deaths</th>\n",
       "      <th>Recovered</th>\n",
       "      <th>Date_new</th>\n",
       "    </tr>\n",
       "  </thead>\n",
       "  <tbody>\n",
       "    <tr>\n",
       "      <th>0</th>\n",
       "      <td>1</td>\n",
       "      <td>01/22/2020 12:00:00</td>\n",
       "      <td>Anhui</td>\n",
       "      <td>China</td>\n",
       "      <td>01/22/2020 12:00:00</td>\n",
       "      <td>1.0</td>\n",
       "      <td>0.0</td>\n",
       "      <td>0.0</td>\n",
       "      <td>01/22</td>\n",
       "    </tr>\n",
       "    <tr>\n",
       "      <th>1</th>\n",
       "      <td>2</td>\n",
       "      <td>01/22/2020 12:00:00</td>\n",
       "      <td>Beijing</td>\n",
       "      <td>China</td>\n",
       "      <td>01/22/2020 12:00:00</td>\n",
       "      <td>14.0</td>\n",
       "      <td>0.0</td>\n",
       "      <td>0.0</td>\n",
       "      <td>01/22</td>\n",
       "    </tr>\n",
       "    <tr>\n",
       "      <th>2</th>\n",
       "      <td>3</td>\n",
       "      <td>01/22/2020 12:00:00</td>\n",
       "      <td>Chongqing</td>\n",
       "      <td>China</td>\n",
       "      <td>01/22/2020 12:00:00</td>\n",
       "      <td>6.0</td>\n",
       "      <td>0.0</td>\n",
       "      <td>0.0</td>\n",
       "      <td>01/22</td>\n",
       "    </tr>\n",
       "    <tr>\n",
       "      <th>3</th>\n",
       "      <td>4</td>\n",
       "      <td>01/22/2020 12:00:00</td>\n",
       "      <td>Fujian</td>\n",
       "      <td>China</td>\n",
       "      <td>01/22/2020 12:00:00</td>\n",
       "      <td>1.0</td>\n",
       "      <td>0.0</td>\n",
       "      <td>0.0</td>\n",
       "      <td>01/22</td>\n",
       "    </tr>\n",
       "    <tr>\n",
       "      <th>4</th>\n",
       "      <td>5</td>\n",
       "      <td>01/22/2020 12:00:00</td>\n",
       "      <td>Gansu</td>\n",
       "      <td>China</td>\n",
       "      <td>01/22/2020 12:00:00</td>\n",
       "      <td>0.0</td>\n",
       "      <td>0.0</td>\n",
       "      <td>0.0</td>\n",
       "      <td>01/22</td>\n",
       "    </tr>\n",
       "    <tr>\n",
       "      <th>...</th>\n",
       "      <td>...</td>\n",
       "      <td>...</td>\n",
       "      <td>...</td>\n",
       "      <td>...</td>\n",
       "      <td>...</td>\n",
       "      <td>...</td>\n",
       "      <td>...</td>\n",
       "      <td>...</td>\n",
       "      <td>...</td>\n",
       "    </tr>\n",
       "    <tr>\n",
       "      <th>1714</th>\n",
       "      <td>1715</td>\n",
       "      <td>02/17/2020 22:00:00</td>\n",
       "      <td>Madison, WI</td>\n",
       "      <td>US</td>\n",
       "      <td>2020-02-05T21:53:02</td>\n",
       "      <td>1.0</td>\n",
       "      <td>0.0</td>\n",
       "      <td>0.0</td>\n",
       "      <td>02/17</td>\n",
       "    </tr>\n",
       "    <tr>\n",
       "      <th>1715</th>\n",
       "      <td>1716</td>\n",
       "      <td>02/17/2020 22:00:00</td>\n",
       "      <td>Orange, CA</td>\n",
       "      <td>US</td>\n",
       "      <td>2020-02-01T19:53:03</td>\n",
       "      <td>1.0</td>\n",
       "      <td>0.0</td>\n",
       "      <td>0.0</td>\n",
       "      <td>02/17</td>\n",
       "    </tr>\n",
       "    <tr>\n",
       "      <th>1716</th>\n",
       "      <td>1717</td>\n",
       "      <td>02/17/2020 22:00:00</td>\n",
       "      <td>San Antonio, TX</td>\n",
       "      <td>US</td>\n",
       "      <td>2020-02-13T18:53:02</td>\n",
       "      <td>1.0</td>\n",
       "      <td>0.0</td>\n",
       "      <td>0.0</td>\n",
       "      <td>02/17</td>\n",
       "    </tr>\n",
       "    <tr>\n",
       "      <th>1717</th>\n",
       "      <td>1718</td>\n",
       "      <td>02/17/2020 22:00:00</td>\n",
       "      <td>Seattle, WA</td>\n",
       "      <td>US</td>\n",
       "      <td>2020-02-09T07:03:04</td>\n",
       "      <td>1.0</td>\n",
       "      <td>0.0</td>\n",
       "      <td>1.0</td>\n",
       "      <td>02/17</td>\n",
       "    </tr>\n",
       "    <tr>\n",
       "      <th>1718</th>\n",
       "      <td>1719</td>\n",
       "      <td>02/17/2020 22:00:00</td>\n",
       "      <td>Tempe, AZ</td>\n",
       "      <td>US</td>\n",
       "      <td>2020-02-01T19:43:03</td>\n",
       "      <td>1.0</td>\n",
       "      <td>0.0</td>\n",
       "      <td>0.0</td>\n",
       "      <td>02/17</td>\n",
       "    </tr>\n",
       "  </tbody>\n",
       "</table>\n",
       "<p>1719 rows × 9 columns</p>\n",
       "</div>"
      ],
      "text/plain": [
       "       Sno                 Date   Province/State Country          Last Update  \\\n",
       "0        1  01/22/2020 12:00:00            Anhui   China  01/22/2020 12:00:00   \n",
       "1        2  01/22/2020 12:00:00          Beijing   China  01/22/2020 12:00:00   \n",
       "2        3  01/22/2020 12:00:00        Chongqing   China  01/22/2020 12:00:00   \n",
       "3        4  01/22/2020 12:00:00           Fujian   China  01/22/2020 12:00:00   \n",
       "4        5  01/22/2020 12:00:00            Gansu   China  01/22/2020 12:00:00   \n",
       "...    ...                  ...              ...     ...                  ...   \n",
       "1714  1715  02/17/2020 22:00:00      Madison, WI      US  2020-02-05T21:53:02   \n",
       "1715  1716  02/17/2020 22:00:00       Orange, CA      US  2020-02-01T19:53:03   \n",
       "1716  1717  02/17/2020 22:00:00  San Antonio, TX      US  2020-02-13T18:53:02   \n",
       "1717  1718  02/17/2020 22:00:00      Seattle, WA      US  2020-02-09T07:03:04   \n",
       "1718  1719  02/17/2020 22:00:00        Tempe, AZ      US  2020-02-01T19:43:03   \n",
       "\n",
       "      Confirmed  Deaths  Recovered Date_new  \n",
       "0           1.0     0.0        0.0    01/22  \n",
       "1          14.0     0.0        0.0    01/22  \n",
       "2           6.0     0.0        0.0    01/22  \n",
       "3           1.0     0.0        0.0    01/22  \n",
       "4           0.0     0.0        0.0    01/22  \n",
       "...         ...     ...        ...      ...  \n",
       "1714        1.0     0.0        0.0    02/17  \n",
       "1715        1.0     0.0        0.0    02/17  \n",
       "1716        1.0     0.0        0.0    02/17  \n",
       "1717        1.0     0.0        1.0    02/17  \n",
       "1718        1.0     0.0        0.0    02/17  \n",
       "\n",
       "[1719 rows x 9 columns]"
      ]
     },
     "execution_count": 15,
     "metadata": {},
     "output_type": "execute_result"
    }
   ],
   "source": [
    "df"
   ]
  },
  {
   "cell_type": "markdown",
   "metadata": {},
   "source": [
    "> ### 6.groupby 'Country' เพื่อเรียงข้อมูลตามชื่อประเทศ เพื่อดูว่ามีประเทศอะไรบ้าง"
   ]
  },
  {
   "cell_type": "code",
   "execution_count": 16,
   "metadata": {},
   "outputs": [],
   "source": [
    "Country_group = df.groupby(['Country'], as_index=False).sum()['Country']"
   ]
  },
  {
   "cell_type": "code",
   "execution_count": 17,
   "metadata": {
    "scrolled": true
   },
   "outputs": [
    {
     "data": {
      "text/plain": [
       "0                Australia\n",
       "1                  Belgium\n",
       "2                   Brazil\n",
       "3                 Cambodia\n",
       "4                   Canada\n",
       "5                    China\n",
       "6                    Egypt\n",
       "7                  Finland\n",
       "8                   France\n",
       "9                  Germany\n",
       "10               Hong Kong\n",
       "11                   India\n",
       "12                   Italy\n",
       "13             Ivory Coast\n",
       "14                   Japan\n",
       "15                   Macau\n",
       "16          Mainland China\n",
       "17                Malaysia\n",
       "18                  Mexico\n",
       "19                   Nepal\n",
       "20                  Others\n",
       "21             Philippines\n",
       "22                  Russia\n",
       "23               Singapore\n",
       "24             South Korea\n",
       "25                   Spain\n",
       "26               Sri Lanka\n",
       "27                  Sweden\n",
       "28                  Taiwan\n",
       "29                Thailand\n",
       "30                      UK\n",
       "31                      US\n",
       "32    United Arab Emirates\n",
       "33                 Vietnam\n",
       "Name: Country, dtype: object"
      ]
     },
     "execution_count": 17,
     "metadata": {},
     "output_type": "execute_result"
    }
   ],
   "source": [
    "Country_group"
   ]
  },
  {
   "cell_type": "markdown",
   "metadata": {},
   "source": [
    "- จะเห็นว่ามี 34 ประเทศ ซึ่งมีประเทศที่ใช้ชื่อไม่เหทือนกัน แต่คือประเทศเดียวกัน คือ 'Mainland China' กับ 'China' ดังนั้นจะทำการตัด ปะเทศที่ชื่อ 'Mainland China' ทิ้งไป\n",
    "\n",
    "- ตัดประเทศที่ชื่อว่า 'Others' ทิ้งไป เพราะไม่ทราบว่าเป็นประเทศใดบ้าง และไม่ใช่ข้อมูลที่ต้องการ นำมาสร้างเป็นแผนที่ไม่ได้ "
   ]
  },
  {
   "cell_type": "code",
   "execution_count": 18,
   "metadata": {},
   "outputs": [],
   "source": [
    "df.drop(df[df['Country'] == 'Mainland China' ].index, inplace = True)"
   ]
  },
  {
   "cell_type": "code",
   "execution_count": 20,
   "metadata": {},
   "outputs": [],
   "source": [
    "df.drop(df[df['Country'] == 'Others' ].index, inplace = True)"
   ]
  },
  {
   "cell_type": "markdown",
   "metadata": {},
   "source": [
    "- ใช้คำสั่ง groupby อีกรอบเพื่อดูว่าได้ข้อมูลแต่ละประเทศตามต้องการแล้ว โดยเหลือเพียง 32 ประเทศ"
   ]
  },
  {
   "cell_type": "code",
   "execution_count": 21,
   "metadata": {},
   "outputs": [],
   "source": [
    "Country_group2 = df.groupby(['Country'], as_index=False).sum()['Country']"
   ]
  },
  {
   "cell_type": "code",
   "execution_count": 22,
   "metadata": {
    "scrolled": true
   },
   "outputs": [
    {
     "data": {
      "text/plain": [
       "0                Australia\n",
       "1                  Belgium\n",
       "2                   Brazil\n",
       "3                 Cambodia\n",
       "4                   Canada\n",
       "5                    China\n",
       "6                    Egypt\n",
       "7                  Finland\n",
       "8                   France\n",
       "9                  Germany\n",
       "10               Hong Kong\n",
       "11                   India\n",
       "12                   Italy\n",
       "13             Ivory Coast\n",
       "14                   Japan\n",
       "15                   Macau\n",
       "16                Malaysia\n",
       "17                  Mexico\n",
       "18                   Nepal\n",
       "19             Philippines\n",
       "20                  Russia\n",
       "21               Singapore\n",
       "22             South Korea\n",
       "23                   Spain\n",
       "24               Sri Lanka\n",
       "25                  Sweden\n",
       "26                  Taiwan\n",
       "27                Thailand\n",
       "28                      UK\n",
       "29                      US\n",
       "30    United Arab Emirates\n",
       "31                 Vietnam\n",
       "Name: Country, dtype: object"
      ]
     },
     "execution_count": 22,
     "metadata": {},
     "output_type": "execute_result"
    }
   ],
   "source": [
    "Country_group2"
   ]
  },
  {
   "cell_type": "markdown",
   "metadata": {},
   "source": [
    "> ### 6. บันทีก file ไว้เป็น CSV. ชื่อ Covid_19"
   ]
  },
  {
   "cell_type": "code",
   "execution_count": 23,
   "metadata": {},
   "outputs": [],
   "source": [
    "df.to_csv('Covid2019_final.csv')"
   ]
  },
  {
   "cell_type": "code",
   "execution_count": 24,
   "metadata": {},
   "outputs": [
    {
     "data": {
      "text/plain": [
       "(907, 9)"
      ]
     },
     "execution_count": 24,
     "metadata": {},
     "output_type": "execute_result"
    }
   ],
   "source": [
    "df.shape"
   ]
  },
  {
   "cell_type": "markdown",
   "metadata": {},
   "source": [
    "# Code สำหรับการทำ Visualization in Power BI"
   ]
  },
  {
   "cell_type": "markdown",
   "metadata": {},
   "source": [
    "> # Run in Power BI \n",
    "\n",
    "```Covid2019 =  pandas.read_csv('C:/Users/ASUS/Documents/Basic_Python/python_dataviz/Covid2019_final.csv')```\n",
    "\n",
    "```dataset = dataset.drop(columns=['Unnamed: 0'])```\n",
    "> 1. LINE Graphs\n",
    "\n",
    "``` import numpy as np\n",
    "import matplotlib.pyplot as plt\n",
    "import matplotlib as mpl\n",
    "ax = plt.gca() \n",
    "dataset.plot(kind='line',x='Date_new',y='Confirmed',ax=ax) \n",
    "dataset.plot(kind='line',x='Date_new',y='Deaths', color='red', ax=ax) \n",
    "dataset.plot(kind='line',x='Date_new',y='Recovered', color='lime', ax=ax) \n",
    "plt.show() ```"
   ]
  },
  {
   "cell_type": "markdown",
   "metadata": {},
   "source": [
    ">2. Bar Chart\n",
    "\n",
    "```import matplotlib.pyplot as plt \n",
    "dataset.plot(kind='bar',x='Country',y='Confirmed') \n",
    "plt.show()````````"
   ]
  },
  {
   "cell_type": "code",
   "execution_count": 25,
   "metadata": {},
   "outputs": [],
   "source": [
    "import numpy as np\n",
    "import matplotlib.pyplot as plt\n",
    "import matplotlib as mpl"
   ]
  },
  {
   "cell_type": "markdown",
   "metadata": {},
   "source": [
    "> #  groupby 'Country' เพื่อเรียงข้อมูลตามชื่อประเทศ สำหรับทำ Map  รวมจำนวผู้ติดเชื้อของแต่ละประเทศ โดยใช้คำสั่ง groupby 'Confirmed' "
   ]
  },
  {
   "cell_type": "code",
   "execution_count": 26,
   "metadata": {},
   "outputs": [],
   "source": [
    "Country_c = df.groupby(['Country'], as_index=False).sum()['Country']"
   ]
  },
  {
   "cell_type": "code",
   "execution_count": 27,
   "metadata": {
    "scrolled": true
   },
   "outputs": [
    {
     "data": {
      "text/plain": [
       "0                Australia\n",
       "1                  Belgium\n",
       "2                   Brazil\n",
       "3                 Cambodia\n",
       "4                   Canada\n",
       "5                    China\n",
       "6                    Egypt\n",
       "7                  Finland\n",
       "8                   France\n",
       "9                  Germany\n",
       "10               Hong Kong\n",
       "11                   India\n",
       "12                   Italy\n",
       "13             Ivory Coast\n",
       "14                   Japan\n",
       "15                   Macau\n",
       "16                Malaysia\n",
       "17                  Mexico\n",
       "18                   Nepal\n",
       "19             Philippines\n",
       "20                  Russia\n",
       "21               Singapore\n",
       "22             South Korea\n",
       "23                   Spain\n",
       "24               Sri Lanka\n",
       "25                  Sweden\n",
       "26                  Taiwan\n",
       "27                Thailand\n",
       "28                      UK\n",
       "29                      US\n",
       "30    United Arab Emirates\n",
       "31                 Vietnam\n",
       "Name: Country, dtype: object"
      ]
     },
     "execution_count": 27,
     "metadata": {},
     "output_type": "execute_result"
    }
   ],
   "source": [
    "Country_c"
   ]
  },
  {
   "cell_type": "markdown",
   "metadata": {},
   "source": [
    "> ## เตรียมข้อมูลสำหรับ ทำ Line Graphs แสดงจำนวนผู้ป่วยทั้งหมดในแต่ละวัน"
   ]
  },
  {
   "cell_type": "markdown",
   "metadata": {},
   "source": [
    "### groupby 'Date_new' เพื่อให้ข้อมูลเรียงแสดงตามวันที่"
   ]
  },
  {
   "cell_type": "code",
   "execution_count": 29,
   "metadata": {},
   "outputs": [],
   "source": [
    "X = df.groupby(['Date_new'], as_index=False).sum()['Date_new']\n",
    "Y1 = df.groupby(['Date_new'], as_index=False).sum()['Confirmed']\n",
    "Y2 = df.groupby(['Date_new'], as_index=False).sum()['Deaths']\n",
    "Y3= df.groupby(['Date_new'], as_index=False).sum()['Recovered']"
   ]
  },
  {
   "cell_type": "code",
   "execution_count": 30,
   "metadata": {
    "scrolled": true
   },
   "outputs": [
    {
     "data": {
      "text/plain": [
       "0     01/22\n",
       "1     01/23\n",
       "2     01/24\n",
       "3     01/25\n",
       "4     01/26\n",
       "5     01/27\n",
       "6     01/28\n",
       "7     01/29\n",
       "8     01/30\n",
       "9     01/31\n",
       "10    02/01\n",
       "11    02/02\n",
       "12    02/03\n",
       "13    02/04\n",
       "14    02/05\n",
       "15    02/06\n",
       "16    02/07\n",
       "17    02/08\n",
       "18    02/09\n",
       "19    02/10\n",
       "20    02/11\n",
       "21    02/12\n",
       "22    02/13\n",
       "23    02/14\n",
       "24    02/15\n",
       "25    02/16\n",
       "26    02/17\n",
       "Name: Date_new, dtype: object"
      ]
     },
     "execution_count": 30,
     "metadata": {},
     "output_type": "execute_result"
    }
   ],
   "source": [
    "X"
   ]
  },
  {
   "cell_type": "code",
   "execution_count": 31,
   "metadata": {
    "scrolled": true
   },
   "outputs": [
    {
     "data": {
      "text/plain": [
       "0     555.0\n",
       "1      14.0\n",
       "2      25.0\n",
       "3      40.0\n",
       "4      57.0\n",
       "5      64.0\n",
       "6      87.0\n",
       "7     105.0\n",
       "8     118.0\n",
       "9     153.0\n",
       "10    174.0\n",
       "11    181.0\n",
       "12    188.0\n",
       "13    213.0\n",
       "14    225.0\n",
       "15    265.0\n",
       "16    256.0\n",
       "17    290.0\n",
       "18    312.0\n",
       "19    322.0\n",
       "20    341.0\n",
       "21    348.0\n",
       "22    363.0\n",
       "23    377.0\n",
       "24    400.0\n",
       "25    425.0\n",
       "26    442.0\n",
       "Name: Confirmed, dtype: float64"
      ]
     },
     "execution_count": 31,
     "metadata": {},
     "output_type": "execute_result"
    }
   ],
   "source": [
    "Y1"
   ]
  },
  {
   "cell_type": "code",
   "execution_count": 32,
   "metadata": {
    "scrolled": true
   },
   "outputs": [
    {
     "data": {
      "text/plain": [
       "0     0.0\n",
       "1     0.0\n",
       "2     0.0\n",
       "3     0.0\n",
       "4     0.0\n",
       "5     0.0\n",
       "6     0.0\n",
       "7     0.0\n",
       "8     0.0\n",
       "9     0.0\n",
       "10    1.0\n",
       "11    1.0\n",
       "12    1.0\n",
       "13    2.0\n",
       "14    2.0\n",
       "15    2.0\n",
       "16    2.0\n",
       "17    2.0\n",
       "18    2.0\n",
       "19    2.0\n",
       "20    2.0\n",
       "21    2.0\n",
       "22    3.0\n",
       "23    3.0\n",
       "24    4.0\n",
       "25    5.0\n",
       "26    5.0\n",
       "Name: Deaths, dtype: float64"
      ]
     },
     "execution_count": 32,
     "metadata": {},
     "output_type": "execute_result"
    }
   ],
   "source": [
    "Y2"
   ]
  },
  {
   "cell_type": "code",
   "execution_count": 33,
   "metadata": {
    "scrolled": true
   },
   "outputs": [
    {
     "data": {
      "text/plain": [
       "0       0.0\n",
       "1       0.0\n",
       "2       0.0\n",
       "3       0.0\n",
       "4       3.0\n",
       "5       3.0\n",
       "6       6.0\n",
       "7       6.0\n",
       "8       8.0\n",
       "9      10.0\n",
       "10      9.0\n",
       "11      9.0\n",
       "12      9.0\n",
       "13      9.0\n",
       "14      9.0\n",
       "15     11.0\n",
       "16     13.0\n",
       "17     23.0\n",
       "18     26.0\n",
       "19     29.0\n",
       "20     51.0\n",
       "21     71.0\n",
       "22     82.0\n",
       "23     85.0\n",
       "24    101.0\n",
       "25    117.0\n",
       "26    128.0\n",
       "Name: Recovered, dtype: float64"
      ]
     },
     "execution_count": 33,
     "metadata": {},
     "output_type": "execute_result"
    }
   ],
   "source": [
    "Y3"
   ]
  },
  {
   "cell_type": "markdown",
   "metadata": {},
   "source": [
    "# Line Graphs\n",
    "\n",
    "ผู้ติดเชื้อ Co-vid19 เดือนมกราคม - เดือนกุมภาพันธ์ 2563 "
   ]
  },
  {
   "cell_type": "code",
   "execution_count": 36,
   "metadata": {
    "scrolled": false
   },
   "outputs": [
    {
     "data": {
      "text/plain": [
       "Text(0.5, 1.0, 'กราฟแสดงจำนวนผู้ติดเชื้อ Covid-19 เดือนมกราคม - เดือนกุมภาพันธ์ 2563')"
      ]
     },
     "execution_count": 36,
     "metadata": {},
     "output_type": "execute_result"
    },
    {
     "data": {
      "image/png": "[encoded data removed]",
      "text/plain": [
       "<Figure size 800x400 with 1 Axes>"
      ]
     },
     "metadata": {
      "needs_background": "light"
     },
     "output_type": "display_data"
    }
   ],
   "source": [
    "plt.figure(figsize=[10,5],dpi=80)\n",
    "plt.gca(facecolor= '#FFFFEE')\n",
    "plt.plot(X,Y1,'skyblue',label = \"Confirmed\",marker='X')\n",
    "plt.plot(X,Y2,'r',label = \"Deaths\",marker='X')\n",
    "plt.plot(X,Y3,'lime',label = \"Recovered\",marker='X')\n",
    "plt.legend()\n",
    "plt.xticks(rotation = 90)\n",
    "plt.xlabel('วันที่',fontname='Tahoma')\n",
    "plt.ylabel('จำนวน(คน)',fontname='Tahoma')\n",
    "plt.title('กราฟแสดงจำนวนผู้ติดเชื้อ Covid-19 เดือนมกราคม - เดือนกุมภาพันธ์ 2563',fontname='Tahoma',fontsize=18)"
   ]
  },
  {
   "cell_type": "markdown",
   "metadata": {},
   "source": [
    "# Line Area\n",
    "\n",
    "## จำนวนผู้ที่ได้รับการยืนยันว่าติดเชื้อเรียงตามวันและเดือน"
   ]
  },
  {
   "cell_type": "code",
   "execution_count": 37,
   "metadata": {},
   "outputs": [],
   "source": [
    "import datetime\n",
    "import numpy as np\n",
    "import pandas as pd\n",
    "import matplotlib.pyplot as plt"
   ]
  },
  {
   "cell_type": "code",
   "execution_count": 40,
   "metadata": {
    "scrolled": true
   },
   "outputs": [
    {
     "data": {
      "text/plain": [
       "Text(0.5, 1.0, 'ผู้ติดเชื้อทั่วโลก เดือนมกราคม - เดือนกุมภาพันธ์ 2563 ')"
      ]
     },
     "execution_count": 40,
     "metadata": {},
     "output_type": "execute_result"
    },
    {
     "data": {
      "image/png": "[encoded data removed]",
      "text/plain": [
       "<Figure size 800x400 with 1 Axes>"
      ]
     },
     "metadata": {
      "needs_background": "light"
     },
     "output_type": "display_data"
    }
   ],
   "source": [
    "##turnover = [2, 7, 14, 17, 20, 27, 30, 38, 25, 18, 6, 1]\n",
    "plt.figure(figsize=[10,5],dpi=80)\n",
    "plt.fill_between(X, Y1,\n",
    "                 color=\"r\", alpha=0.2)\n",
    "plt.plot(X, Y1, color=\"Slateblue\",\n",
    "         alpha=0.6, linewidth=2)\n",
    "plt.xticks(rotation = 90)\n",
    "plt.xlabel('วันที่',fontname='Tahoma')\n",
    "plt.ylabel('จำนวน(คน)',fontname='Tahoma')\n",
    "plt.title('ผู้ติดเชื้อทั่วโลก เดือนมกราคม - เดือนกุมภาพันธ์ 2563 ',fontname='Tahoma',fontsize=18)"
   ]
  },
  {
   "cell_type": "markdown",
   "metadata": {},
   "source": [
    "## groupby.  เพื่อดูว่าแต่ละประเทศมีผู้ติดเชื่อจำนวนเท่าไหร่ ในเดือนมกราคม - กุมภาพันธ์ ที่ผ่านมา"
   ]
  },
  {
   "cell_type": "code",
   "execution_count": 41,
   "metadata": {},
   "outputs": [],
   "source": [
    "Country_coun = df.groupby(['Country'], as_index=False).sum()['Country']"
   ]
  },
  {
   "cell_type": "code",
   "execution_count": 45,
   "metadata": {},
   "outputs": [
    {
     "data": {
      "text/plain": [
       "0                Australia\n",
       "1                  Belgium\n",
       "2                   Brazil\n",
       "3                 Cambodia\n",
       "4                   Canada\n",
       "5                    China\n",
       "6                    Egypt\n",
       "7                  Finland\n",
       "8                   France\n",
       "9                  Germany\n",
       "10               Hong Kong\n",
       "11                   India\n",
       "12                   Italy\n",
       "13             Ivory Coast\n",
       "14                   Japan\n",
       "15                   Macau\n",
       "16                Malaysia\n",
       "17                  Mexico\n",
       "18                   Nepal\n",
       "19             Philippines\n",
       "20                  Russia\n",
       "21               Singapore\n",
       "22             South Korea\n",
       "23                   Spain\n",
       "24               Sri Lanka\n",
       "25                  Sweden\n",
       "26                  Taiwan\n",
       "27                Thailand\n",
       "28                      UK\n",
       "29                      US\n",
       "30    United Arab Emirates\n",
       "31                 Vietnam\n",
       "Name: Country, dtype: object"
      ]
     },
     "execution_count": 45,
     "metadata": {},
     "output_type": "execute_result"
    }
   ],
   "source": [
    "Country_coun"
   ]
  },
  {
   "cell_type": "code",
   "execution_count": 43,
   "metadata": {},
   "outputs": [],
   "source": [
    "Country_confirm = df.groupby(['Country'], as_index=False).sum()['Confirmed']"
   ]
  },
  {
   "cell_type": "markdown",
   "metadata": {},
   "source": [
    "# Lollipop plot"
   ]
  },
  {
   "cell_type": "code",
   "execution_count": 44,
   "metadata": {
    "scrolled": false
   },
   "outputs": [
    {
     "name": "stderr",
     "output_type": "stream",
     "text": [
      "D:\\Python3.7\\lib\\site-packages\\ipykernel_launcher.py:2: UserWarning: In Matplotlib 3.3 individual lines on a stem plot will be added as a LineCollection instead of individual lines. This significantly improves the performance of a stem plot. To remove this warning and switch to the new behaviour, set the \"use_line_collection\" keyword argument to True.\n",
      "  \n"
     ]
    },
    {
     "data": {
      "text/plain": [
       "Text(0.5, 1.0, 'ผู้ติดเชื้อแต่ละประเทศใน เดือนมกราคม - เดือนกุมภาพันธ์')"
      ]
     },
     "execution_count": 44,
     "metadata": {},
     "output_type": "execute_result"
    },
    {
     "data": {
      "image/png": "[encoded data removed]",
      "text/plain": [
       "<Figure size 800x400 with 1 Axes>"
      ]
     },
     "metadata": {
      "needs_background": "light"
     },
     "output_type": "display_data"
    }
   ],
   "source": [
    "plt.figure(figsize=[10,5],dpi=80)\n",
    "(markerline, stemlines, baseline) = plt.stem(Country_coun,Country_confirm)\n",
    "plt.setp(markerline, marker='*', markersize=15,\n",
    "         markeredgewidth=2, color='r')\n",
    "plt.setp(stemlines, color='r')\n",
    "plt.setp(baseline, visible=False)\n",
    "plt.xticks(rotation = 90)\n",
    "plt.xlabel('ประเทศ',fontname='Tahoma')\n",
    "plt.ylabel('จำนวน(คน)',fontname='Tahoma')\n",
    "plt.title('ผู้ติดเชื้อแต่ละประเทศใน เดือนมกราคม - เดือนกุมภาพันธ์',fontname='Tahoma',fontsize=18)"
   ]
  },
  {
   "cell_type": "markdown",
   "metadata": {},
   "source": [
    "# Bar Chart \n",
    "\n",
    "# แสดงการติดเชื้อในภูมิภาคเอเชียตะวันออกเฉียงใต้\n",
    "\n",
    ">3.Cambodia\n",
    "\n",
    ">16.Malaysia\n",
    "\n",
    ">19.Philippines\n",
    "\n",
    ">21 Singapore\n",
    "\n",
    ">27.Thailand\n",
    "\n",
    ">31.Vietnam"
   ]
  },
  {
   "cell_type": "markdown",
   "metadata": {},
   "source": [
    "- Create dataframe"
   ]
  },
  {
   "cell_type": "code",
   "execution_count": 74,
   "metadata": {},
   "outputs": [],
   "source": [
    "dataframe_Coun = pd.DataFrame(list(zip( Country_coun,Country_confirm)), \n",
    "                  columns =['Country','Confirmed'])"
   ]
  },
  {
   "cell_type": "code",
   "execution_count": 75,
   "metadata": {
    "scrolled": true
   },
   "outputs": [
    {
     "data": {
      "text/html": [
       "<div>\n",
       "<style scoped>\n",
       "    .dataframe tbody tr th:only-of-type {\n",
       "        vertical-align: middle;\n",
       "    }\n",
       "\n",
       "    .dataframe tbody tr th {\n",
       "        vertical-align: top;\n",
       "    }\n",
       "\n",
       "    .dataframe thead th {\n",
       "        text-align: right;\n",
       "    }\n",
       "</style>\n",
       "<table border=\"1\" class=\"dataframe\">\n",
       "  <thead>\n",
       "    <tr style=\"text-align: right;\">\n",
       "      <th></th>\n",
       "      <th>Country</th>\n",
       "      <th>Confirmed</th>\n",
       "    </tr>\n",
       "  </thead>\n",
       "  <tbody>\n",
       "    <tr>\n",
       "      <th>0</th>\n",
       "      <td>Australia</td>\n",
       "      <td>284.0</td>\n",
       "    </tr>\n",
       "    <tr>\n",
       "      <th>1</th>\n",
       "      <td>Belgium</td>\n",
       "      <td>14.0</td>\n",
       "    </tr>\n",
       "    <tr>\n",
       "      <th>2</th>\n",
       "      <td>Brazil</td>\n",
       "      <td>0.0</td>\n",
       "    </tr>\n",
       "    <tr>\n",
       "      <th>3</th>\n",
       "      <td>Cambodia</td>\n",
       "      <td>22.0</td>\n",
       "    </tr>\n",
       "    <tr>\n",
       "      <th>4</th>\n",
       "      <td>Canada</td>\n",
       "      <td>116.0</td>\n",
       "    </tr>\n",
       "    <tr>\n",
       "      <th>5</th>\n",
       "      <td>China</td>\n",
       "      <td>549.0</td>\n",
       "    </tr>\n",
       "    <tr>\n",
       "      <th>6</th>\n",
       "      <td>Egypt</td>\n",
       "      <td>4.0</td>\n",
       "    </tr>\n",
       "    <tr>\n",
       "      <th>7</th>\n",
       "      <td>Finland</td>\n",
       "      <td>20.0</td>\n",
       "    </tr>\n",
       "    <tr>\n",
       "      <th>8</th>\n",
       "      <td>France</td>\n",
       "      <td>186.0</td>\n",
       "    </tr>\n",
       "    <tr>\n",
       "      <th>9</th>\n",
       "      <td>Germany</td>\n",
       "      <td>252.0</td>\n",
       "    </tr>\n",
       "    <tr>\n",
       "      <th>10</th>\n",
       "      <td>Hong Kong</td>\n",
       "      <td>681.0</td>\n",
       "    </tr>\n",
       "    <tr>\n",
       "      <th>11</th>\n",
       "      <td>India</td>\n",
       "      <td>50.0</td>\n",
       "    </tr>\n",
       "    <tr>\n",
       "      <th>12</th>\n",
       "      <td>Italy</td>\n",
       "      <td>49.0</td>\n",
       "    </tr>\n",
       "    <tr>\n",
       "      <th>13</th>\n",
       "      <td>Ivory Coast</td>\n",
       "      <td>0.0</td>\n",
       "    </tr>\n",
       "    <tr>\n",
       "      <th>14</th>\n",
       "      <td>Japan</td>\n",
       "      <td>591.0</td>\n",
       "    </tr>\n",
       "    <tr>\n",
       "      <th>15</th>\n",
       "      <td>Macau</td>\n",
       "      <td>209.0</td>\n",
       "    </tr>\n",
       "    <tr>\n",
       "      <th>16</th>\n",
       "      <td>Malaysia</td>\n",
       "      <td>303.0</td>\n",
       "    </tr>\n",
       "    <tr>\n",
       "      <th>17</th>\n",
       "      <td>Mexico</td>\n",
       "      <td>0.0</td>\n",
       "    </tr>\n",
       "    <tr>\n",
       "      <th>18</th>\n",
       "      <td>Nepal</td>\n",
       "      <td>24.0</td>\n",
       "    </tr>\n",
       "    <tr>\n",
       "      <th>19</th>\n",
       "      <td>Philippines</td>\n",
       "      <td>47.0</td>\n",
       "    </tr>\n",
       "    <tr>\n",
       "      <th>20</th>\n",
       "      <td>Russia</td>\n",
       "      <td>36.0</td>\n",
       "    </tr>\n",
       "    <tr>\n",
       "      <th>21</th>\n",
       "      <td>Singapore</td>\n",
       "      <td>797.0</td>\n",
       "    </tr>\n",
       "    <tr>\n",
       "      <th>22</th>\n",
       "      <td>South Korea</td>\n",
       "      <td>444.0</td>\n",
       "    </tr>\n",
       "    <tr>\n",
       "      <th>23</th>\n",
       "      <td>Spain</td>\n",
       "      <td>27.0</td>\n",
       "    </tr>\n",
       "    <tr>\n",
       "      <th>24</th>\n",
       "      <td>Sri Lanka</td>\n",
       "      <td>22.0</td>\n",
       "    </tr>\n",
       "    <tr>\n",
       "      <th>25</th>\n",
       "      <td>Sweden</td>\n",
       "      <td>18.0</td>\n",
       "    </tr>\n",
       "    <tr>\n",
       "      <th>26</th>\n",
       "      <td>Taiwan</td>\n",
       "      <td>320.0</td>\n",
       "    </tr>\n",
       "    <tr>\n",
       "      <th>27</th>\n",
       "      <td>Thailand</td>\n",
       "      <td>581.0</td>\n",
       "    </tr>\n",
       "    <tr>\n",
       "      <th>28</th>\n",
       "      <td>UK</td>\n",
       "      <td>93.0</td>\n",
       "    </tr>\n",
       "    <tr>\n",
       "      <th>29</th>\n",
       "      <td>US</td>\n",
       "      <td>250.0</td>\n",
       "    </tr>\n",
       "    <tr>\n",
       "      <th>30</th>\n",
       "      <td>United Arab Emirates</td>\n",
       "      <td>126.0</td>\n",
       "    </tr>\n",
       "    <tr>\n",
       "      <th>31</th>\n",
       "      <td>Vietnam</td>\n",
       "      <td>225.0</td>\n",
       "    </tr>\n",
       "  </tbody>\n",
       "</table>\n",
       "</div>"
      ],
      "text/plain": [
       "                 Country  Confirmed\n",
       "0              Australia      284.0\n",
       "1                Belgium       14.0\n",
       "2                 Brazil        0.0\n",
       "3               Cambodia       22.0\n",
       "4                 Canada      116.0\n",
       "5                  China      549.0\n",
       "6                  Egypt        4.0\n",
       "7                Finland       20.0\n",
       "8                 France      186.0\n",
       "9                Germany      252.0\n",
       "10             Hong Kong      681.0\n",
       "11                 India       50.0\n",
       "12                 Italy       49.0\n",
       "13           Ivory Coast        0.0\n",
       "14                 Japan      591.0\n",
       "15                 Macau      209.0\n",
       "16              Malaysia      303.0\n",
       "17                Mexico        0.0\n",
       "18                 Nepal       24.0\n",
       "19           Philippines       47.0\n",
       "20                Russia       36.0\n",
       "21             Singapore      797.0\n",
       "22           South Korea      444.0\n",
       "23                 Spain       27.0\n",
       "24             Sri Lanka       22.0\n",
       "25                Sweden       18.0\n",
       "26                Taiwan      320.0\n",
       "27              Thailand      581.0\n",
       "28                    UK       93.0\n",
       "29                    US      250.0\n",
       "30  United Arab Emirates      126.0\n",
       "31               Vietnam      225.0"
      ]
     },
     "execution_count": 75,
     "metadata": {},
     "output_type": "execute_result"
    }
   ],
   "source": [
    "dataframe_Coun "
   ]
  },
  {
   "cell_type": "code",
   "execution_count": 69,
   "metadata": {},
   "outputs": [
    {
     "data": {
      "text/html": [
       "<div>\n",
       "<style scoped>\n",
       "    .dataframe tbody tr th:only-of-type {\n",
       "        vertical-align: middle;\n",
       "    }\n",
       "\n",
       "    .dataframe tbody tr th {\n",
       "        vertical-align: top;\n",
       "    }\n",
       "\n",
       "    .dataframe thead th {\n",
       "        text-align: right;\n",
       "    }\n",
       "</style>\n",
       "<table border=\"1\" class=\"dataframe\">\n",
       "  <thead>\n",
       "    <tr style=\"text-align: right;\">\n",
       "      <th></th>\n",
       "      <th>ประเทศ</th>\n",
       "      <th>จำนวนยืนยันผู้ติดเชื้อ</th>\n",
       "    </tr>\n",
       "  </thead>\n",
       "  <tbody>\n",
       "    <tr>\n",
       "      <th>3</th>\n",
       "      <td>Cambodia</td>\n",
       "      <td>22.0</td>\n",
       "    </tr>\n",
       "    <tr>\n",
       "      <th>16</th>\n",
       "      <td>Malaysia</td>\n",
       "      <td>303.0</td>\n",
       "    </tr>\n",
       "    <tr>\n",
       "      <th>19</th>\n",
       "      <td>Philippines</td>\n",
       "      <td>47.0</td>\n",
       "    </tr>\n",
       "    <tr>\n",
       "      <th>21</th>\n",
       "      <td>Singapore</td>\n",
       "      <td>797.0</td>\n",
       "    </tr>\n",
       "    <tr>\n",
       "      <th>27</th>\n",
       "      <td>Thailand</td>\n",
       "      <td>581.0</td>\n",
       "    </tr>\n",
       "    <tr>\n",
       "      <th>31</th>\n",
       "      <td>Vietnam</td>\n",
       "      <td>225.0</td>\n",
       "    </tr>\n",
       "  </tbody>\n",
       "</table>\n",
       "</div>"
      ],
      "text/plain": [
       "         ประเทศ  จำนวนยืนยันผู้ติดเชื้อ\n",
       "3      Cambodia                    22.0\n",
       "16     Malaysia                   303.0\n",
       "19  Philippines                    47.0\n",
       "21    Singapore                   797.0\n",
       "27     Thailand                   581.0\n",
       "31      Vietnam                   225.0"
      ]
     },
     "execution_count": 69,
     "metadata": {},
     "output_type": "execute_result"
    }
   ],
   "source": [
    "dataframe_Coun.iloc[[3, 16, 19, 21, 27, 31], [0, 1]]"
   ]
  },
  {
   "cell_type": "code",
   "execution_count": 76,
   "metadata": {},
   "outputs": [
    {
     "data": {
      "text/html": [
       "<div>\n",
       "<style scoped>\n",
       "    .dataframe tbody tr th:only-of-type {\n",
       "        vertical-align: middle;\n",
       "    }\n",
       "\n",
       "    .dataframe tbody tr th {\n",
       "        vertical-align: top;\n",
       "    }\n",
       "\n",
       "    .dataframe thead th {\n",
       "        text-align: right;\n",
       "    }\n",
       "</style>\n",
       "<table border=\"1\" class=\"dataframe\">\n",
       "  <thead>\n",
       "    <tr style=\"text-align: right;\">\n",
       "      <th></th>\n",
       "      <th>Country</th>\n",
       "      <th>Confirmed</th>\n",
       "    </tr>\n",
       "  </thead>\n",
       "  <tbody>\n",
       "    <tr>\n",
       "      <th>3</th>\n",
       "      <td>Cambodia</td>\n",
       "      <td>22.0</td>\n",
       "    </tr>\n",
       "    <tr>\n",
       "      <th>16</th>\n",
       "      <td>Malaysia</td>\n",
       "      <td>303.0</td>\n",
       "    </tr>\n",
       "    <tr>\n",
       "      <th>19</th>\n",
       "      <td>Philippines</td>\n",
       "      <td>47.0</td>\n",
       "    </tr>\n",
       "    <tr>\n",
       "      <th>21</th>\n",
       "      <td>Singapore</td>\n",
       "      <td>797.0</td>\n",
       "    </tr>\n",
       "    <tr>\n",
       "      <th>27</th>\n",
       "      <td>Thailand</td>\n",
       "      <td>581.0</td>\n",
       "    </tr>\n",
       "    <tr>\n",
       "      <th>31</th>\n",
       "      <td>Vietnam</td>\n",
       "      <td>225.0</td>\n",
       "    </tr>\n",
       "  </tbody>\n",
       "</table>\n",
       "</div>"
      ],
      "text/plain": [
       "        Country  Confirmed\n",
       "3      Cambodia       22.0\n",
       "16     Malaysia      303.0\n",
       "19  Philippines       47.0\n",
       "21    Singapore      797.0\n",
       "27     Thailand      581.0\n",
       "31      Vietnam      225.0"
      ]
     },
     "execution_count": 76,
     "metadata": {},
     "output_type": "execute_result"
    }
   ],
   "source": [
    "covid_asia = dataframe_Coun.iloc[[3, 16, 19, 21, 27, 31], [0, 1]]\n",
    "covid_asia "
   ]
  },
  {
   "cell_type": "code",
   "execution_count": 96,
   "metadata": {},
   "outputs": [
    {
     "data": {
      "text/plain": [
       "Text(0, 0.5, 'Number/Confirmed')"
      ]
     },
     "execution_count": 96,
     "metadata": {},
     "output_type": "execute_result"
    },
    {
     "data": {
      "image/png": "[encoded data removed]",
      "text/plain": [
       "<Figure size 432x288 with 1 Axes>"
      ]
     },
     "metadata": {
      "needs_background": "light"
     },
     "output_type": "display_data"
    }
   ],
   "source": [
    "plt.bar([1,2,3,4,5,6],covid_asia.iloc[:,1],tick_label= covid_asia.iloc[:,0]) \n",
    "plt.title(u'จำนวนผู้ติดเชื้อในภูมิภาคเอเชียตะวันออกเฉียงใต้',fontname='Tahoma',fontsize='13') \n",
    "plt.xlabel('Country') \n",
    "plt.xticks(rotation = 90)\n",
    "plt.ylabel('Number/Confirmed') "
   ]
  },
  {
   "cell_type": "markdown",
   "metadata": {},
   "source": [
    "# Tree Map \n",
    "> แสดงจำนวนผู้ติดเชื้อในภูมิภาคเอเชียตะวันออกเฉียงใต้"
   ]
  },
  {
   "cell_type": "code",
   "execution_count": 78,
   "metadata": {},
   "outputs": [],
   "source": [
    "volume = [22, 303, 47, 797, 581, 225]"
   ]
  },
  {
   "cell_type": "code",
   "execution_count": 89,
   "metadata": {},
   "outputs": [],
   "source": [
    "labels = ['Cambodia\\n22', 'Malaysia\\n303',\n",
    "              'Philippines\\n47', 'Singapore\\n797',\n",
    "              'Thailand\\n581','Vietnam\\n225']\n",
    "color_list = ['#C24641', '#C34A2C', '#C34A2C',\n",
    "                  '#E42217', '#E41B17', '#DC381F']"
   ]
  },
  {
   "cell_type": "code",
   "execution_count": 93,
   "metadata": {
    "scrolled": true
   },
   "outputs": [
    {
     "data": {
      "text/plain": [
       "<matplotlib.axes._subplots.AxesSubplot at 0x260ba480888>"
      ]
     },
     "execution_count": 93,
     "metadata": {},
     "output_type": "execute_result"
    },
    {
     "data": {
      "image/png": "[encoded data removed]",
      "text/plain": [
       "<Figure size 432x288 with 1 Axes>"
      ]
     },
     "metadata": {
      "needs_background": "light"
     },
     "output_type": "display_data"
    }
   ],
   "source": [
    "squarify.plot(sizes=volume, label=labels,\n",
    "                      ##color=color_list,\n",
    "                      alpha=0.8)"
   ]
  },
  {
   "cell_type": "markdown",
   "metadata": {},
   "source": [
    "# Pie Chart\n",
    "\n",
    "> สัดส่วนผู้ติดเชื้อในภูมิภาคเอเชียตะวันออกเฉียงใต้\n",
    "\n",
    "- Cambodia = 22*100/1795 = 1.22%\n",
    "\n",
    "- Malaysia = 303*100/1795 = 16.88%\n",
    "\n",
    "- Philippines = 47*100/1795 = 2.61%\n",
    "\n",
    "- Singapore = 797*100/1795 = 44.40%\n",
    "\n",
    "- Thailand = 581*100/1795 = 32.36%\n",
    "\n",
    "- Vietnam = 225*100/1795 = 12.53%"
   ]
  },
  {
   "cell_type": "code",
   "execution_count": 94,
   "metadata": {},
   "outputs": [
    {
     "data": {
      "text/plain": [
       "1.2256267409470751"
      ]
     },
     "execution_count": 94,
     "metadata": {},
     "output_type": "execute_result"
    }
   ],
   "source": [
    "22*100/1795"
   ]
  },
  {
   "cell_type": "code",
   "execution_count": null,
   "metadata": {},
   "outputs": [],
   "source": [
    "import matplotlib.pyplot as plt"
   ]
  },
  {
   "cell_type": "code",
   "execution_count": 95,
   "metadata": {},
   "outputs": [
    {
     "data": {
      "image/png": "[encoded data removed]",
      "text/plain": [
       "<Figure size 432x288 with 1 Axes>"
      ]
     },
     "metadata": {},
     "output_type": "display_data"
    }
   ],
   "source": [
    "labels = 'Singapore', 'Thailand', 'Malaysia ', 'Vietnam', 'Philippines', 'Cambodia'\n",
    "sizes = [44.40, 32.36, 16.88, 12.53, 2.61, 1.22]\n",
    "\n",
    "p = plt.pie(sizes, labels=labels, explode=(0.07, 0, 0, 0, 0, 0),\n",
    "            autopct='%1.1f%%', startangle=130, shadow=True)\n",
    "plt.axis('equal')\n",
    "\n",
    "for i, (Singapore,Thailand,Malaysia,Vietnam,Philippines,Cambodia) in enumerate(p):\n",
    "    if i > 0:\n",
    "        Singapore.set_fontsize(12)\n",
    "        Thailand.set_fontsize(12)\n",
    "        Malaysia.set_fontsize(12)\n",
    "        Vietnam.set_fontsize(12)\n",
    "        Philippines.set_fontsize(12)\n",
    "        Cambodia.set_fontsize(12)\n",
    "    \n",
    "    plt.show()"
   ]
  },
  {
   "cell_type": "code",
   "execution_count": 97,
   "metadata": {},
   "outputs": [
    {
     "data": {
      "image/png": "[encoded data removed]",
      "text/plain": [
       "<Figure size 432x288 with 1 Axes>"
      ]
     },
     "metadata": {},
     "output_type": "display_data"
    }
   ],
   "source": [
    "my_circle = plt.Circle((0, 0), 0.7, color='white')\n",
    "\n",
    "d = plt.pie(sizes, labels=labels, autopct='%1.1f%%',\n",
    "            startangle=90, labeldistance=1.05)\n",
    "plt.axis('equal')\n",
    "plt.gca().add_artist(my_circle)\n",
    "            \n",
    "plt.show()"
   ]
  },
  {
   "cell_type": "markdown",
   "metadata": {},
   "source": [
    "# Line Area\n",
    "\n",
    "> ผู้ติดเชื้อ Co-vid19 ในเดือนมกราคม - เดือนกุมภาพันธ์ 2563 ในประเทศไทย "
   ]
  },
  {
   "cell_type": "code",
   "execution_count": 25,
   "metadata": {},
   "outputs": [],
   "source": [
    "th_X = df[df['Country']=='Thailand']['Date_new']\n",
    "th_y1 = df[df['Country']=='Thailand']['Confirmed']\n",
    "th_y2 = df[df['Country']=='Thailand']['Deaths']\n",
    "th_y3= df[df['Country']=='Thailand']['Recovered']"
   ]
  },
  {
   "cell_type": "code",
   "execution_count": 142,
   "metadata": {
    "scrolled": true
   },
   "outputs": [
    {
     "data": {
      "text/plain": [
       "Text(0.5, 1.0, 'ผู้ติดเชื้อในประเทศไทย')"
      ]
     },
     "execution_count": 142,
     "metadata": {},
     "output_type": "execute_result"
    },
    {
     "data": {
      "image/png": "[encoded data removed]",
      "text/plain": [
       "<Figure size 800x400 with 1 Axes>"
      ]
     },
     "metadata": {
      "needs_background": "light"
     },
     "output_type": "display_data"
    }
   ],
   "source": [
    "plt.figure(figsize=[10,5],dpi=80)\n",
    "plt.fill_between(th_X, th_y1,\n",
    "                 color=\"r\", alpha=0.1)\n",
    "plt.plot(th_X, th_y1, color=\"r\",\n",
    "         alpha=0.3, linewidth=2)\n",
    "plt.xticks(rotation = 90)\n",
    "plt.xlabel('วันที่',fontname='Tahoma')\n",
    "plt.ylabel('จำนวน(คน)',fontname='Tahoma')\n",
    "plt.title('ผู้ติดเชื้อในประเทศไทย',fontname='Tahoma',fontsize=18)"
   ]
  },
  {
   "cell_type": "markdown",
   "metadata": {},
   "source": [
    "> ผู้ที่หายจากการติดเชื้อ Co-vid19 ในเดือนมกราคม - เดือนกุมภาพันธ์ 2563 ในประเทศไทย "
   ]
  },
  {
   "cell_type": "code",
   "execution_count": 141,
   "metadata": {
    "scrolled": true
   },
   "outputs": [
    {
     "data": {
      "text/plain": [
       "Text(0.5, 1.0, 'ผู้ที่หายจากการติดเชื้อในประเทศไทย')"
      ]
     },
     "execution_count": 141,
     "metadata": {},
     "output_type": "execute_result"
    },
    {
     "data": {
      "image/png": "[encoded data removed]",
      "text/plain": [
       "<Figure size 800x400 with 1 Axes>"
      ]
     },
     "metadata": {
      "needs_background": "light"
     },
     "output_type": "display_data"
    }
   ],
   "source": [
    "plt.figure(figsize=[10,5],dpi=80)\n",
    "plt.fill_between(th_X, th_y3,\n",
    "                 color=\"g\", alpha=0.2)\n",
    "plt.plot(th_X, th_y3, color=\"g\",\n",
    "         alpha=0.3, linewidth=2)\n",
    "plt.xticks(rotation = 90)\n",
    "plt.xlabel('วันที่',fontname='Tahoma')\n",
    "plt.ylabel('จำนวน(คน)',fontname='Tahoma')\n",
    "plt.title('ผู้ที่หายจากการติดเชื้อในประเทศไทย',fontname='Tahoma',fontsize=18)"
   ]
  },
  {
   "cell_type": "markdown",
   "metadata": {},
   "source": [
    ">>>>> ทดลองทำแบบอื่น "
   ]
  },
  {
   "cell_type": "markdown",
   "metadata": {},
   "source": [
    "# Scatter plot"
   ]
  },
  {
   "cell_type": "code",
   "execution_count": 24,
   "metadata": {},
   "outputs": [],
   "source": [
    "from matplotlib import pyplot as plt\n",
    "import numpy as np\n",
    "import seaborn as sns\n",
    "import matplotlib.pyplot as plt\n",
    "import matplotlib"
   ]
  },
  {
   "cell_type": "code",
   "execution_count": 69,
   "metadata": {},
   "outputs": [
    {
     "name": "stdout",
     "output_type": "stream",
     "text": [
      "max = 73260.0, min = 555.0\n"
     ]
    }
   ],
   "source": [
    "print(f'max = {max(Y1)}, min = {min(Y1)}')"
   ]
  },
  {
   "cell_type": "code",
   "execution_count": 72,
   "metadata": {},
   "outputs": [],
   "source": [
    "import numpy as np"
   ]
  },
  {
   "cell_type": "code",
   "execution_count": 73,
   "metadata": {},
   "outputs": [
    {
     "data": {
      "text/plain": [
       "['b',\n",
       " 'b',\n",
       " 'b',\n",
       " 'g',\n",
       " 'g',\n",
       " 'y',\n",
       " 'r',\n",
       " 'r',\n",
       " 'r',\n",
       " 'r',\n",
       " 'r',\n",
       " 'r',\n",
       " 'r',\n",
       " 'r',\n",
       " 'r',\n",
       " 'r',\n",
       " 'r',\n",
       " 'r',\n",
       " 'r',\n",
       " 'r',\n",
       " 'r',\n",
       " 'r',\n",
       " 'r',\n",
       " 'r',\n",
       " 'r',\n",
       " 'r',\n",
       " 'r']"
      ]
     },
     "execution_count": 73,
     "metadata": {},
     "output_type": "execute_result"
    }
   ],
   "source": [
    "colors = []\n",
    "for i in Y1:\n",
    "    if i < 2000 :\n",
    "        colors.append('b')\n",
    "    elif i < 4000 :\n",
    "         colors.append('g')\n",
    "    elif i < 6000 :\n",
    "         colors.append('y')\n",
    "    else :\n",
    "         colors.append('r')\n",
    "colors"
   ]
  },
  {
   "cell_type": "code",
   "execution_count": 81,
   "metadata": {},
   "outputs": [
    {
     "data": {
      "text/plain": [
       "<matplotlib.collections.PathCollection at 0x1de2f3c3988>"
      ]
     },
     "execution_count": 81,
     "metadata": {},
     "output_type": "execute_result"
    },
    {
     "data": {
      "image/png": "[encoded data removed]",
      "text/plain": [
       "<Figure size 720x360 with 1 Axes>"
      ]
     },
     "metadata": {
      "needs_background": "light"
     },
     "output_type": "display_data"
    }
   ],
   "source": [
    "plt.scatter(Y1,Y2,s=0.3*Y3, c = colors)"
   ]
  },
  {
   "cell_type": "markdown",
   "metadata": {},
   "source": [
    "# Lollipop plot"
   ]
  },
  {
   "cell_type": "code",
   "execution_count": 87,
   "metadata": {},
   "outputs": [
    {
     "name": "stderr",
     "output_type": "stream",
     "text": [
      "D:\\Python3.7\\lib\\site-packages\\ipykernel_launcher.py:2: UserWarning: In Matplotlib 3.3 individual lines on a stem plot will be added as a LineCollection instead of individual lines. This significantly improves the performance of a stem plot. To remove this warning and switch to the new behaviour, set the \"use_line_collection\" keyword argument to True.\n",
      "  \n"
     ]
    },
    {
     "data": {
      "text/plain": [
       "Text(0.5, 1.0, 'ผู้เสียชีวิตทั่วโลก เดือนมกราคม - เดือนกุมภาพันธ์')"
      ]
     },
     "execution_count": 87,
     "metadata": {},
     "output_type": "execute_result"
    },
    {
     "data": {
      "image/png": "[encoded data removed]",
      "text/plain": [
       "<Figure size 800x400 with 1 Axes>"
      ]
     },
     "metadata": {
      "needs_background": "light"
     },
     "output_type": "display_data"
    }
   ],
   "source": [
    "plt.figure(figsize=[10,5],dpi=80)\n",
    "(markerline, stemlines, baseline) = plt.stem(X,Y2)\n",
    "plt.setp(markerline, marker='*', markersize=15,\n",
    "         markeredgewidth=2, color='r')\n",
    "plt.setp(stemlines, color='r')\n",
    "plt.setp(baseline, visible=False)\n",
    "plt.xticks(rotation = 90)\n",
    "plt.xlabel('วันที่',fontname='Tahoma')\n",
    "plt.ylabel('จำนวน(คน)',fontname='Tahoma')\n",
    "plt.title('ผู้เสียชีวิตทั่วโลก เดือนมกราคม - เดือนกุมภาพันธ์',fontname='Tahoma',fontsize=18)"
   ]
  },
  {
   "cell_type": "markdown",
   "metadata": {},
   "source": [
    "# Bar Chart \n",
    "\n",
    "ผู้ติดเชื้อ Co-vid19 ในเดือนมกราคม - เดือนกุมภาพันธ์ 2563"
   ]
  },
  {
   "cell_type": "code",
   "execution_count": 26,
   "metadata": {},
   "outputs": [],
   "source": [
    "C = df.groupby(['Country'], as_index=False).sum()['Country']\n",
    "c1 = df.groupby(['Country'], as_index=False).sum()['Confirmed']\n",
    "c2 = df.groupby(['Country'], as_index=False).sum()['Deaths']\n",
    "c3 = df.groupby(['Country'], as_index=False).sum()['Recovered']"
   ]
  },
  {
   "cell_type": "code",
   "execution_count": 27,
   "metadata": {
    "scrolled": true
   },
   "outputs": [
    {
     "data": {
      "text/plain": [
       "0                Australia\n",
       "1                  Belgium\n",
       "2                   Brazil\n",
       "3                 Cambodia\n",
       "4                   Canada\n",
       "5                    China\n",
       "6                    Egypt\n",
       "7                  Finland\n",
       "8                   France\n",
       "9                  Germany\n",
       "10               Hong Kong\n",
       "11                   India\n",
       "12                   Italy\n",
       "13             Ivory Coast\n",
       "14                   Japan\n",
       "15                   Macau\n",
       "16          Mainland China\n",
       "17                Malaysia\n",
       "18                  Mexico\n",
       "19                   Nepal\n",
       "20                  Others\n",
       "21             Philippines\n",
       "22                  Russia\n",
       "23               Singapore\n",
       "24             South Korea\n",
       "25                   Spain\n",
       "26               Sri Lanka\n",
       "27                  Sweden\n",
       "28                  Taiwan\n",
       "29                Thailand\n",
       "30                      UK\n",
       "31                      US\n",
       "32    United Arab Emirates\n",
       "33                 Vietnam\n",
       "Name: Country, dtype: object"
      ]
     },
     "execution_count": 27,
     "metadata": {},
     "output_type": "execute_result"
    }
   ],
   "source": [
    "C"
   ]
  },
  {
   "cell_type": "code",
   "execution_count": 28,
   "metadata": {},
   "outputs": [],
   "source": [
    "sum_c1 = c1.sum()"
   ]
  },
  {
   "cell_type": "code",
   "execution_count": 29,
   "metadata": {},
   "outputs": [
    {
     "data": {
      "text/plain": [
       "781452.0"
      ]
     },
     "execution_count": 29,
     "metadata": {},
     "output_type": "execute_result"
    }
   ],
   "source": [
    "sum_c1 "
   ]
  },
  {
   "cell_type": "code",
   "execution_count": 30,
   "metadata": {},
   "outputs": [],
   "source": [
    "sum_c2 = c2.sum()"
   ]
  },
  {
   "cell_type": "code",
   "execution_count": 31,
   "metadata": {},
   "outputs": [
    {
     "data": {
      "text/plain": [
       "17949.0"
      ]
     },
     "execution_count": 31,
     "metadata": {},
     "output_type": "execute_result"
    }
   ],
   "source": [
    "sum_c2 "
   ]
  },
  {
   "cell_type": "code",
   "execution_count": 32,
   "metadata": {},
   "outputs": [],
   "source": [
    "sum_c3 = c3.sum()"
   ]
  },
  {
   "cell_type": "code",
   "execution_count": 33,
   "metadata": {},
   "outputs": [
    {
     "data": {
      "text/plain": [
       "76258.0"
      ]
     },
     "execution_count": 33,
     "metadata": {},
     "output_type": "execute_result"
    }
   ],
   "source": [
    "sum_c3"
   ]
  },
  {
   "cell_type": "code",
   "execution_count": 34,
   "metadata": {},
   "outputs": [],
   "source": [
    "Data = [('Confirmed',781452),\n",
    "                   ('Deaths',17949),\n",
    "                    ('Recovered',76258)]"
   ]
  },
  {
   "cell_type": "code",
   "execution_count": 35,
   "metadata": {},
   "outputs": [],
   "source": [
    "labels = ['Covid-19','Number']"
   ]
  },
  {
   "cell_type": "code",
   "execution_count": 36,
   "metadata": {},
   "outputs": [],
   "source": [
    "Data_List = pd.DataFrame.from_records(Data,columns=labels)"
   ]
  },
  {
   "cell_type": "code",
   "execution_count": 37,
   "metadata": {},
   "outputs": [
    {
     "data": {
      "text/html": [
       "<div>\n",
       "<style scoped>\n",
       "    .dataframe tbody tr th:only-of-type {\n",
       "        vertical-align: middle;\n",
       "    }\n",
       "\n",
       "    .dataframe tbody tr th {\n",
       "        vertical-align: top;\n",
       "    }\n",
       "\n",
       "    .dataframe thead th {\n",
       "        text-align: right;\n",
       "    }\n",
       "</style>\n",
       "<table border=\"1\" class=\"dataframe\">\n",
       "  <thead>\n",
       "    <tr style=\"text-align: right;\">\n",
       "      <th></th>\n",
       "      <th>Covid-19</th>\n",
       "      <th>Number</th>\n",
       "    </tr>\n",
       "  </thead>\n",
       "  <tbody>\n",
       "    <tr>\n",
       "      <th>0</th>\n",
       "      <td>Confirmed</td>\n",
       "      <td>781452</td>\n",
       "    </tr>\n",
       "    <tr>\n",
       "      <th>1</th>\n",
       "      <td>Deaths</td>\n",
       "      <td>17949</td>\n",
       "    </tr>\n",
       "    <tr>\n",
       "      <th>2</th>\n",
       "      <td>Recovered</td>\n",
       "      <td>76258</td>\n",
       "    </tr>\n",
       "  </tbody>\n",
       "</table>\n",
       "</div>"
      ],
      "text/plain": [
       "    Covid-19  Number\n",
       "0  Confirmed  781452\n",
       "1     Deaths   17949\n",
       "2  Recovered   76258"
      ]
     },
     "execution_count": 37,
     "metadata": {},
     "output_type": "execute_result"
    }
   ],
   "source": [
    "Data_List "
   ]
  },
  {
   "cell_type": "code",
   "execution_count": 38,
   "metadata": {},
   "outputs": [
    {
     "data": {
      "text/plain": [
       "Text(0, 0.5, 'Number')"
      ]
     },
     "execution_count": 38,
     "metadata": {},
     "output_type": "execute_result"
    },
    {
     "data": {
      "image/png": "[encoded data removed]",
      "text/plain": [
       "<Figure size 432x288 with 1 Axes>"
      ]
     },
     "metadata": {
      "needs_background": "light"
     },
     "output_type": "display_data"
    }
   ],
   "source": [
    "plt.bar([1,2,3],Data_List.iloc[:,1],tick_label=Data_List.iloc[:,0]) \n",
    "plt.title(u'กราฟเปรียบเทียบจำนวนผู้ติดเชื้อ/เสียชีวิต/รอดชีวิตจากเชื้อ Covid-19 ปี 2563',fontname='Tahoma',fontsize='15') \n",
    "plt.xlabel('Covid-19') \n",
    "plt.ylabel('Number') "
   ]
  },
  {
   "cell_type": "code",
   "execution_count": 39,
   "metadata": {},
   "outputs": [],
   "source": [
    "from wordcloud import WordCloud\n",
    "from PIL import Image"
   ]
  },
  {
   "cell_type": "markdown",
   "metadata": {},
   "source": [
    "# Word Cloud แสดงประเทศที่มีการบันทึกข้อมูลผู้ติดเชื้อ Co-vid19 "
   ]
  },
  {
   "cell_type": "code",
   "execution_count": 131,
   "metadata": {},
   "outputs": [],
   "source": [
    "Country = df_d.iloc[:,3]"
   ]
  },
  {
   "cell_type": "code",
   "execution_count": 132,
   "metadata": {
    "scrolled": true
   },
   "outputs": [
    {
     "data": {
      "text/plain": [
       "0       China\n",
       "1       China\n",
       "2       China\n",
       "3       China\n",
       "4       China\n",
       "        ...  \n",
       "1714       US\n",
       "1715       US\n",
       "1716       US\n",
       "1717       US\n",
       "1718       US\n",
       "Name: Country, Length: 907, dtype: object"
      ]
     },
     "execution_count": 132,
     "metadata": {},
     "output_type": "execute_result"
    }
   ],
   "source": [
    "Country"
   ]
  },
  {
   "cell_type": "code",
   "execution_count": 133,
   "metadata": {},
   "outputs": [],
   "source": [
    "textCou = ''"
   ]
  },
  {
   "cell_type": "code",
   "execution_count": 134,
   "metadata": {},
   "outputs": [],
   "source": [
    "for i in range(len(df_d)):\n",
    "        x = df_d.iloc[i,3]\n",
    "        textCou += x"
   ]
  },
  {
   "cell_type": "code",
   "execution_count": 135,
   "metadata": {},
   "outputs": [
    {
     "data": {
      "image/png": "[encoded data removed]",
      "text/plain": [
       "<Figure size 720x360 with 1 Axes>"
      ]
     },
     "metadata": {
      "needs_background": "light"
     },
     "output_type": "display_data"
    }
   ],
   "source": [
    "wordcloud = WordCloud(background_color=\"white\" ,width=1280, height=853, max_words=2000,\n",
    "                      scale=3,margin=2 ,colormap='plasma').generate(textCou)\n",
    "\n",
    "plt.imshow(wordcloud, interpolation='bilinear')\n",
    "plt.axis('off')\n",
    "plt.margins(x=0, y=0)\n",
    "plt.show()"
   ]
  },
  {
   "cell_type": "markdown",
   "metadata": {},
   "source": [
    "# Tree Map แสดงการติดเชื้อใน Mainland China"
   ]
  },
  {
   "cell_type": "code",
   "execution_count": 45,
   "metadata": {},
   "outputs": [],
   "source": [
    "ch_X = df[df['Country']=='Mainland China']['Date_new']\n",
    "ch_y1 = df[df['Country']== 'Mainland China']['Confirmed']\n",
    "ch_y2 = df[df['Country']=='Mainland China']['Deaths']\n",
    "ch_y3= df[df['Country']== 'Mainland China']['Recovered']"
   ]
  },
  {
   "cell_type": "code",
   "execution_count": 46,
   "metadata": {},
   "outputs": [
    {
     "data": {
      "text/plain": [
       "38      01/23\n",
       "39      01/23\n",
       "40      01/23\n",
       "41      01/23\n",
       "42      01/23\n",
       "        ...  \n",
       "1672    02/17\n",
       "1673    02/17\n",
       "1674    02/17\n",
       "1681    02/17\n",
       "1708    02/17\n",
       "Name: Date_new, Length: 801, dtype: object"
      ]
     },
     "execution_count": 46,
     "metadata": {},
     "output_type": "execute_result"
    }
   ],
   "source": [
    "ch_X"
   ]
  },
  {
   "cell_type": "code",
   "execution_count": 47,
   "metadata": {
    "scrolled": true
   },
   "outputs": [
    {
     "data": {
      "text/plain": [
       "38       9.0\n",
       "39      22.0\n",
       "40       9.0\n",
       "41       5.0\n",
       "42       2.0\n",
       "        ... \n",
       "1672    75.0\n",
       "1673    72.0\n",
       "1674    70.0\n",
       "1681    18.0\n",
       "1708     1.0\n",
       "Name: Confirmed, Length: 801, dtype: float64"
      ]
     },
     "execution_count": 47,
     "metadata": {},
     "output_type": "execute_result"
    }
   ],
   "source": [
    "ch_y1"
   ]
  },
  {
   "cell_type": "code",
   "execution_count": 48,
   "metadata": {},
   "outputs": [],
   "source": [
    "Confirmed_ch= ch_y1.sum()"
   ]
  },
  {
   "cell_type": "code",
   "execution_count": 49,
   "metadata": {},
   "outputs": [],
   "source": [
    "Deaths_ch = ch_y2.sum()"
   ]
  },
  {
   "cell_type": "code",
   "execution_count": 50,
   "metadata": {},
   "outputs": [],
   "source": [
    "Recovered_ch = ch_y3.sum()"
   ]
  },
  {
   "cell_type": "code",
   "execution_count": 51,
   "metadata": {},
   "outputs": [],
   "source": [
    "volume1 = [Confirmed_ch]"
   ]
  },
  {
   "cell_type": "code",
   "execution_count": 52,
   "metadata": {},
   "outputs": [],
   "source": [
    "labels1 = ['Confirmed\\n 772,951']\n",
    "color_list1 = ['m']"
   ]
  },
  {
   "cell_type": "code",
   "execution_count": 53,
   "metadata": {},
   "outputs": [
    {
     "data": {
      "text/plain": [
       "<matplotlib.axes._subplots.AxesSubplot at 0x1de307fe208>"
      ]
     },
     "execution_count": 53,
     "metadata": {},
     "output_type": "execute_result"
    },
    {
     "data": {
      "image/png": "[encoded data removed]",
      "text/plain": [
       "<Figure size 432x288 with 1 Axes>"
      ]
     },
     "metadata": {
      "needs_background": "light"
     },
     "output_type": "display_data"
    }
   ],
   "source": [
    "squarify.plot(sizes=volume1, label=labels1,\n",
    "                      color=color_list1, alpha=0.7)"
   ]
  },
  {
   "cell_type": "code",
   "execution_count": 54,
   "metadata": {},
   "outputs": [],
   "source": [
    "volume = [Deaths_ch,Recovered_ch]"
   ]
  },
  {
   "cell_type": "code",
   "execution_count": 55,
   "metadata": {},
   "outputs": [
    {
     "data": {
      "text/plain": [
       "[17908.0, 75440.0]"
      ]
     },
     "execution_count": 55,
     "metadata": {},
     "output_type": "execute_result"
    }
   ],
   "source": [
    "volume "
   ]
  },
  {
   "cell_type": "code",
   "execution_count": 56,
   "metadata": {},
   "outputs": [],
   "source": [
    "labels = ['Deaths\\n 17,908','Recovered\\n 75,440']\n",
    "color_list = ['r','g']"
   ]
  },
  {
   "cell_type": "code",
   "execution_count": 57,
   "metadata": {},
   "outputs": [
    {
     "data": {
      "text/plain": [
       "<matplotlib.axes._subplots.AxesSubplot at 0x1de30846548>"
      ]
     },
     "execution_count": 57,
     "metadata": {},
     "output_type": "execute_result"
    },
    {
     "data": {
      "image/png": "[encoded data removed]",
      "text/plain": [
       "<Figure size 432x288 with 1 Axes>"
      ]
     },
     "metadata": {
      "needs_background": "light"
     },
     "output_type": "display_data"
    }
   ],
   "source": [
    "squarify.plot(sizes=volume, label=labels,\n",
    "                      color=color_list, alpha=0.7)"
   ]
  },
  {
   "cell_type": "code",
   "execution_count": 58,
   "metadata": {},
   "outputs": [
    {
     "data": {
      "text/plain": [
       "<matplotlib.axes._subplots.AxesSubplot at 0x1de30888c88>"
      ]
     },
     "execution_count": 58,
     "metadata": {},
     "output_type": "execute_result"
    },
    {
     "data": {
      "image/png": "[encoded data removed]",
      "text/plain": [
       "<Figure size 720x360 with 2 Axes>"
      ]
     },
     "metadata": {
      "needs_background": "light"
     },
     "output_type": "display_data"
    }
   ],
   "source": [
    "matplotlib.rcParams['figure.figsize'] = [10,5]\n",
    "plt.subplot(1,2,1)\n",
    "volume1 = [Confirmed_ch]\n",
    "labels1 = ['Confirmed\\n 772,951']\n",
    "color_list1 = ['m']\n",
    "squarify.plot(sizes=volume1, label=labels1,\n",
    "                      color=color_list1, alpha=0.7)\n",
    "plt.subplot(1,2,2)\n",
    "volume = [Deaths_ch,Recovered_ch]\n",
    "labels = ['Deaths\\n 17,908','Recovered\\n 75,440']\n",
    "color_list = ['r','g']\n",
    "squarify.plot(sizes=volume, label=labels,\n",
    "                      color=color_list, alpha=0.7)"
   ]
  },
  {
   "cell_type": "markdown",
   "metadata": {},
   "source": [
    "# scatter Plot"
   ]
  },
  {
   "cell_type": "code",
   "execution_count": 95,
   "metadata": {},
   "outputs": [
    {
     "data": {
      "text/plain": [
       "<matplotlib.collections.PathCollection at 0x1de301ada88>"
      ]
     },
     "execution_count": 95,
     "metadata": {},
     "output_type": "execute_result"
    },
    {
     "data": {
      "image/png": "[encoded data removed]",
      "text/plain": [
       "<Figure size 720x360 with 1 Axes>"
      ]
     },
     "metadata": {
      "needs_background": "light"
     },
     "output_type": "display_data"
    }
   ],
   "source": [
    "plt.scatter(ch_y1,ch_y1,s=0.05*ch_y1, c = ch_y1, cmap='pink',marker = 'X')\n",
    "plt.scatter(ch_y2,ch_y2,s=0.05*ch_y2, c = ch_y2, cmap='Reds',marker = '^')\n",
    "plt.scatter(ch_y3,ch_y2,s=0.05*ch_y2, c = ch_y2, cmap='Greens',marker = '*')"
   ]
  },
  {
   "cell_type": "code",
   "execution_count": null,
   "metadata": {},
   "outputs": [],
   "source": []
  },
  {
   "cell_type": "code",
   "execution_count": null,
   "metadata": {},
   "outputs": [],
   "source": []
  },
  {
   "cell_type": "code",
   "execution_count": null,
   "metadata": {},
   "outputs": [],
   "source": []
  },
  {
   "cell_type": "code",
   "execution_count": null,
   "metadata": {},
   "outputs": [],
   "source": []
  },
  {
   "cell_type": "code",
   "execution_count": null,
   "metadata": {},
   "outputs": [],
   "source": []
  },
  {
   "cell_type": "code",
   "execution_count": null,
   "metadata": {},
   "outputs": [],
   "source": []
  },
  {
   "cell_type": "code",
   "execution_count": null,
   "metadata": {},
   "outputs": [],
   "source": []
  },
  {
   "cell_type": "code",
   "execution_count": null,
   "metadata": {},
   "outputs": [],
   "source": []
  }
 ],
 "metadata": {
  "kernelspec": {
   "display_name": "Python 3",
   "language": "python",
   "name": "python3"
  },
  "language_info": {
   "codemirror_mode": {
    "name": "ipython",
    "version": 3
   },
   "file_extension": ".py",
   "mimetype": "text/x-python",
   "name": "python",
   "nbconvert_exporter": "python",
   "pygments_lexer": "ipython3",
   "version": "3.7.4"
  }
 },
 "nbformat": 4,
 "nbformat_minor": 2
}
